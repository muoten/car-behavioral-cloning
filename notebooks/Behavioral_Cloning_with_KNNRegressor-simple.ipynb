{
 "cells": [
  {
   "cell_type": "code",
   "execution_count": 1,
   "metadata": {},
   "outputs": [],
   "source": [
    "#import os\n",
    "#if os.environ.get(\"PYTHONHASHSEED\") != \"0\":\n",
    "#  raise Exception(\"You must set PYTHONHASHSEED=0 when starting the Jupyter server to get reproducible results.\")\n",
    "\n",
    "import numpy as np\n",
    "import random as rn\n",
    "\n",
    "SEED=42\n",
    "np.random.seed(SEED)\n",
    "rn.seed(SEED)"
   ]
  },
  {
   "cell_type": "markdown",
   "metadata": {},
   "source": [
    "## Get Data and Generate Dataset"
   ]
  },
  {
   "cell_type": "code",
   "execution_count": 2,
   "metadata": {},
   "outputs": [
    {
     "name": "stdout",
     "output_type": "stream",
     "text": [
      "driving_log.csv  IMG\r\n"
     ]
    }
   ],
   "source": [
    "DATASET_PATH=\"/home/milhouse/datasets/steering_angle/data2\"\n",
    "!ls $DATASET_PATH"
   ]
  },
  {
   "cell_type": "code",
   "execution_count": 3,
   "metadata": {
    "colab": {
     "base_uri": "https://localhost:8080/",
     "height": 34
    },
    "colab_type": "code",
    "id": "ApygA6cKetP8",
    "outputId": "7ca7de34-d5fb-4873-990b-f2dcf68e5b39"
   },
   "outputs": [],
   "source": [
    "import matplotlib.pyplot as plt\n",
    "import matplotlib.image as npimg\n",
    "import os\n",
    "\n",
    "import cv2\n",
    "import pandas as pd\n",
    "import ntpath\n",
    "\n",
    "## Sklearn\n",
    "from sklearn.utils import shuffle\n",
    "from sklearn.model_selection import train_test_split"
   ]
  },
  {
   "cell_type": "code",
   "execution_count": 4,
   "metadata": {
    "colab": {
     "base_uri": "https://localhost:8080/",
     "height": 400
    },
    "colab_type": "code",
    "id": "-vW2OAepfCY7",
    "outputId": "a481b688-42e5-46be-f9c4-c7a66af787c7"
   },
   "outputs": [],
   "source": [
    "## Store data\n",
    "datadir = DATASET_PATH\n",
    "data = pd.read_csv(os.path.join(datadir, 'driving_log.csv'))\n",
    "pd.set_option('display.max_colwidth', -1)\n",
    "#data.head()\n"
   ]
  },
  {
   "cell_type": "code",
   "execution_count": 5,
   "metadata": {
    "colab": {
     "base_uri": "https://localhost:8080/",
     "height": 226
    },
    "colab_type": "code",
    "id": "DPesS6YZhmiR",
    "outputId": "0b57fe4a-2f17-4916-adc2-3008cf331dd1"
   },
   "outputs": [
    {
     "name": "stdout",
     "output_type": "stream",
     "text": [
      "(8033, 7)\n"
     ]
    },
    {
     "data": {
      "text/html": [
       "<div>\n",
       "<style scoped>\n",
       "    .dataframe tbody tr th:only-of-type {\n",
       "        vertical-align: middle;\n",
       "    }\n",
       "\n",
       "    .dataframe tbody tr th {\n",
       "        vertical-align: top;\n",
       "    }\n",
       "\n",
       "    .dataframe thead th {\n",
       "        text-align: right;\n",
       "    }\n",
       "</style>\n",
       "<table border=\"1\" class=\"dataframe\">\n",
       "  <thead>\n",
       "    <tr style=\"text-align: right;\">\n",
       "      <th></th>\n",
       "      <th>center</th>\n",
       "      <th>left</th>\n",
       "      <th>right</th>\n",
       "      <th>steering</th>\n",
       "      <th>throttle</th>\n",
       "      <th>brake</th>\n",
       "      <th>speed</th>\n",
       "    </tr>\n",
       "  </thead>\n",
       "  <tbody>\n",
       "    <tr>\n",
       "      <th>0</th>\n",
       "      <td>center_2016_12_01_13_31_13_037.jpg</td>\n",
       "      <td>left_2016_12_01_13_31_13_037.jpg</td>\n",
       "      <td>right_2016_12_01_13_31_13_037.jpg</td>\n",
       "      <td>0.0</td>\n",
       "      <td>0.0</td>\n",
       "      <td>0.0</td>\n",
       "      <td>1.438419</td>\n",
       "    </tr>\n",
       "    <tr>\n",
       "      <th>1</th>\n",
       "      <td>center_2016_12_01_13_31_13_177.jpg</td>\n",
       "      <td>left_2016_12_01_13_31_13_177.jpg</td>\n",
       "      <td>right_2016_12_01_13_31_13_177.jpg</td>\n",
       "      <td>0.0</td>\n",
       "      <td>0.0</td>\n",
       "      <td>0.0</td>\n",
       "      <td>1.418236</td>\n",
       "    </tr>\n",
       "    <tr>\n",
       "      <th>2</th>\n",
       "      <td>center_2016_12_01_13_31_13_279.jpg</td>\n",
       "      <td>left_2016_12_01_13_31_13_279.jpg</td>\n",
       "      <td>right_2016_12_01_13_31_13_279.jpg</td>\n",
       "      <td>0.0</td>\n",
       "      <td>0.0</td>\n",
       "      <td>0.0</td>\n",
       "      <td>1.403993</td>\n",
       "    </tr>\n",
       "    <tr>\n",
       "      <th>3</th>\n",
       "      <td>center_2016_12_01_13_31_13_381.jpg</td>\n",
       "      <td>left_2016_12_01_13_31_13_381.jpg</td>\n",
       "      <td>right_2016_12_01_13_31_13_381.jpg</td>\n",
       "      <td>0.0</td>\n",
       "      <td>0.0</td>\n",
       "      <td>0.0</td>\n",
       "      <td>1.389892</td>\n",
       "    </tr>\n",
       "    <tr>\n",
       "      <th>4</th>\n",
       "      <td>center_2016_12_01_13_31_13_482.jpg</td>\n",
       "      <td>left_2016_12_01_13_31_13_482.jpg</td>\n",
       "      <td>right_2016_12_01_13_31_13_482.jpg</td>\n",
       "      <td>0.0</td>\n",
       "      <td>0.0</td>\n",
       "      <td>0.0</td>\n",
       "      <td>1.375934</td>\n",
       "    </tr>\n",
       "  </tbody>\n",
       "</table>\n",
       "</div>"
      ],
      "text/plain": [
       "                               center                              left  \\\n",
       "0  center_2016_12_01_13_31_13_037.jpg  left_2016_12_01_13_31_13_037.jpg   \n",
       "1  center_2016_12_01_13_31_13_177.jpg  left_2016_12_01_13_31_13_177.jpg   \n",
       "2  center_2016_12_01_13_31_13_279.jpg  left_2016_12_01_13_31_13_279.jpg   \n",
       "3  center_2016_12_01_13_31_13_381.jpg  left_2016_12_01_13_31_13_381.jpg   \n",
       "4  center_2016_12_01_13_31_13_482.jpg  left_2016_12_01_13_31_13_482.jpg   \n",
       "\n",
       "                               right  steering  throttle  brake     speed  \n",
       "0  right_2016_12_01_13_31_13_037.jpg  0.0       0.0       0.0    1.438419  \n",
       "1  right_2016_12_01_13_31_13_177.jpg  0.0       0.0       0.0    1.418236  \n",
       "2  right_2016_12_01_13_31_13_279.jpg  0.0       0.0       0.0    1.403993  \n",
       "3  right_2016_12_01_13_31_13_381.jpg  0.0       0.0       0.0    1.389892  \n",
       "4  right_2016_12_01_13_31_13_482.jpg  0.0       0.0       0.0    1.375934  "
      ]
     },
     "execution_count": 5,
     "metadata": {},
     "output_type": "execute_result"
    }
   ],
   "source": [
    "def path_leaf(path):\n",
    "  \"\"\"Get tail of path\"\"\"\n",
    "  head, tail = ntpath.split(path)\n",
    "  return tail\n",
    "\n",
    "## Remove path of images\n",
    "data['center'] = data['center'].apply(path_leaf)\n",
    "data['left'] = data['left'].apply(path_leaf)\n",
    "data['right'] = data['right'].apply(path_leaf)\n",
    "print(data.shape)\n",
    "data.head()"
   ]
  },
  {
   "cell_type": "code",
   "execution_count": 6,
   "metadata": {
    "colab": {},
    "colab_type": "code",
    "id": "mujQNa09pSdD"
   },
   "outputs": [],
   "source": [
    "def load_img_steering(datadir, df):\n",
    "  \"\"\"Get img and steering data into arrays\"\"\"\n",
    "  image_path = []\n",
    "  steering = []\n",
    "  for i in range(len(data)):\n",
    "    indexed_data = data.iloc[i]\n",
    "    center, left, right = indexed_data[0], indexed_data[1], indexed_data[2]\n",
    "    image_path.append(os.path.join(datadir, center.strip()))\n",
    "    steering.append(float(indexed_data[3]))\n",
    "  image_paths = np.asarray(image_path)\n",
    "  steerings = np.asarray(steering)\n",
    "  return image_paths, steerings\n",
    "\n",
    "image_paths, steerings = load_img_steering(datadir + '/IMG', data)\n",
    "  "
   ]
  },
  {
   "cell_type": "code",
   "execution_count": 7,
   "metadata": {},
   "outputs": [
    {
     "data": {
      "text/plain": [
       "[<matplotlib.lines.Line2D at 0x7f4e0a5dfb70>]"
      ]
     },
     "execution_count": 7,
     "metadata": {},
     "output_type": "execute_result"
    },
    {
     "data": {
      "image/png": "[encoded data removed]",
      "text/plain": [
       "<Figure size 432x288 with 1 Axes>"
      ]
     },
     "metadata": {
      "needs_background": "light"
     },
     "output_type": "display_data"
    }
   ],
   "source": [
    "## Visualize data\n",
    "num_bins = 25\n",
    "samples_per_bin = 200\n",
    "hist, bins = np.histogram(data['steering'], num_bins)\n",
    "center = bins[:-1] + bins[1:] * 0.5  # center the bins to 0\n",
    "\n",
    "## Plot\n",
    "plt.bar(center, hist, width=0.05)\n",
    "plt.plot((np.min(data['steering']), np.max(data['steering'])), (samples_per_bin, samples_per_bin))"
   ]
  },
  {
   "cell_type": "code",
   "execution_count": 12,
   "metadata": {},
   "outputs": [
    {
     "name": "stdout",
     "output_type": "stream",
     "text": [
      "Training Samples: 6426\n",
      "Çalid Samples: 1607\n"
     ]
    },
    {
     "data": {
      "text/plain": [
       "Text(0.5, 1.0, 'Validation set')"
      ]
     },
     "execution_count": 12,
     "metadata": {},
     "output_type": "execute_result"
    },
    {
     "data": {
      "image/png": "[encoded data removed]",
      "text/plain": [
       "<Figure size 864x288 with 2 Axes>"
      ]
     },
     "metadata": {
      "needs_background": "light"
     },
     "output_type": "display_data"
    }
   ],
   "source": [
    "image_paths, steerings = load_img_steering(datadir + '/IMG', data)\n",
    "\n",
    "## Split data into training and validation\n",
    "X_train_uri, X_valid_uri, Y_train, Y_valid = train_test_split(image_paths, steerings, test_size=0.2, random_state=0)\n",
    "\n",
    "## Check that data is valid\n",
    "print(\"Training Samples: {}\\nÇalid Samples: {}\".format(len(X_train_uri), len(X_valid_uri)))\n",
    "fig, axes = plt.subplots(1, 2, figsize=(12, 4))\n",
    "axes[0].hist(Y_train, bins=num_bins, width=0.05, color='blue')\n",
    "axes[0].set_title('Training set')\n",
    "axes[1].hist(Y_valid, bins=num_bins, width=0.05, color='red')\n",
    "axes[1].set_title('Validation set')"
   ]
  },
  {
   "cell_type": "markdown",
   "metadata": {},
   "source": [
    "# 1.- Unbalanced dataset!"
   ]
  },
  {
   "cell_type": "markdown",
   "metadata": {},
   "source": [
    "## Preprocessing"
   ]
  },
  {
   "cell_type": "code",
   "execution_count": 22,
   "metadata": {
    "colab": {},
    "colab_type": "code",
    "id": "1YjydsuUxJ7k"
   },
   "outputs": [],
   "source": [
    "from PIL import Image\n",
    "from skimage.feature import *\n",
    "\n",
    "# Resize pics:\n",
    "Y_PIX = 80\n",
    "X_PIX = 160\n",
    "Y_CROP = 60\n",
    "Y_CROP2 = 100\n",
    "def img_preprocess(img_uri, my_visualize=False):\n",
    "    image = npimg.imread(img_uri)\n",
    "    img = cv2.normalize(image, image, alpha=0, beta=1, norm_type=cv2.NORM_MINMAX, dtype=cv2.CV_32F)\n",
    "    # crop image:\n",
    "    img = img[Y_CROP:Y_CROP2, :, :]\n",
    "    # resize image:\n",
    "    img = cv2.resize(img, (X_PIX, Y_PIX), interpolation=cv2.INTER_CUBIC)\n",
    "    # grayscale\n",
    "    img_gray = cv2.cvtColor(img, cv2.COLOR_BGR2GRAY)\n",
    "    # resize again\n",
    "    img_gray = Image.fromarray(np.uint8(256 * img_gray))\n",
    "    img_gray = img_gray.resize([int(0.5 * s) for s in img_gray.size], Image.ANTIALIAS)\n",
    "\n",
    "    # hog features\n",
    "    img_gray = hog(img_gray, pixels_per_cell=(8, 8), visualize=my_visualize)\n",
    "\n",
    "    return img_gray\n"
   ]
  },
  {
   "cell_type": "code",
   "execution_count": 23,
   "metadata": {},
   "outputs": [
    {
     "data": {
      "text/plain": [
       "<matplotlib.image.AxesImage at 0x7f4e08a46e80>"
      ]
     },
     "execution_count": 23,
     "metadata": {},
     "output_type": "execute_result"
    },
    {
     "data": {
      "image/png": "[encoded data removed]",
      "text/plain": [
       "<Figure size 432x288 with 1 Axes>"
      ]
     },
     "metadata": {
      "needs_background": "light"
     },
     "output_type": "display_data"
    }
   ],
   "source": [
    "fd, img = img_preprocess(X_train_uri[0], my_visualize=True)\n",
    "plt.imshow(img)\n"
   ]
  },
  {
   "cell_type": "code",
   "execution_count": 24,
   "metadata": {},
   "outputs": [
    {
     "name": "stdout",
     "output_type": "stream",
     "text": [
      "(6426, 1944)\n",
      "(1944,)\n"
     ]
    },
    {
     "data": {
      "image/png": "[encoded data removed]",
      "text/plain": [
       "<Figure size 432x288 with 1 Axes>"
      ]
     },
     "metadata": {
      "needs_background": "light"
     },
     "output_type": "display_data"
    }
   ],
   "source": [
    "## Preprocess data (< 1min)\n",
    "X_train = np.array(list(map(img_preprocess, X_train_uri)))\n",
    "X_valid = np.array(list(map(img_preprocess, X_valid_uri)))\n",
    "plt.axis('off')\n",
    "print(X_train.shape)\n",
    "IMG_SIZE=X_train[0].shape\n",
    "print(IMG_SIZE)"
   ]
  },
  {
   "cell_type": "markdown",
   "metadata": {},
   "source": [
    "## Our dummy baseline model"
   ]
  },
  {
   "cell_type": "code",
   "execution_count": 25,
   "metadata": {},
   "outputs": [
    {
     "name": "stdout",
     "output_type": "stream",
     "text": [
      "Training model...\n",
      "Evaluating model...\n",
      "Mean Squared Error: 0.007403069003686621\n",
      "Elapsed time: 36.8965699672699s\n"
     ]
    }
   ],
   "source": [
    "import time\n",
    "from sklearn.neighbors import KNeighborsRegressor\n",
    "print(\"Training model...\")\n",
    "now = time.time()\n",
    "\n",
    "regressor = KNeighborsRegressor(n_neighbors=5, weights='distance')\n",
    "\n",
    "#Fit/train\n",
    "regressor.fit(X_train, Y_train)\n",
    "\n",
    "#Evaluate\n",
    "print(\"Evaluating model...\")\n",
    "y_pred = regressor.predict(X_valid)\n",
    "from sklearn import metrics\n",
    "\n",
    "print('Mean Squared Error:', metrics.mean_squared_error(Y_valid, y_pred))\n",
    "\n",
    "later = time.time()\n",
    "print (\"Elapsed time: {}s\".format(later - now))\n"
   ]
  },
  {
   "cell_type": "code",
   "execution_count": 26,
   "metadata": {},
   "outputs": [],
   "source": [
    "PROJECT_PATH=\"/home/milhouse/projects/car-behavioral-cloning/\"\n",
    "PATH_TO_MODEL = '{}/models/model_meetup_knnr.pickle'.format(PROJECT_PATH)\n",
    "\n",
    "import pickle\n",
    "with open(PATH_TO_MODEL, 'wb') as handle:\n",
    "    pickle.dump(regressor, handle, protocol=pickle.HIGHEST_PROTOCOL)"
   ]
  },
  {
   "cell_type": "code",
   "execution_count": 33,
   "metadata": {},
   "outputs": [
    {
     "name": "stdout",
     "output_type": "stream",
     "text": [
      "Found path: /home/milhouse/projects/car-behavioral-cloning//beta_simulator_linux/beta_simulator.x86_64\n",
      "Mono path[0] = '/home/milhouse/projects/car-behavioral-cloning//beta_simulator_linux/beta_simulator_Data/Managed'\n",
      "Mono path[1] = '/home/milhouse/projects/car-behavioral-cloning//beta_simulator_linux/beta_simulator_Data/Mono'\n",
      "Mono config path = '/home/milhouse/projects/car-behavioral-cloning//beta_simulator_linux/beta_simulator_Data/Mono/etc'\n",
      "displaymanager : xrandr version warning. 1.5\n",
      "client has 4 screens\n",
      "displaymanager screen (0)(eDP1): 1366 x 768\n",
      "Using libudev for joystick management\n",
      "\n",
      "\n",
      "Importing game controller configs\n",
      "Using TensorFlow backend.\n",
      "OMP: Info #212: KMP_AFFINITY: decoding x2APIC ids.\n",
      "OMP: Info #210: KMP_AFFINITY: Affinity capable, using global cpuid leaf 11 info\n",
      "OMP: Info #154: KMP_AFFINITY: Initial OS proc set respected: 0-3\n",
      "OMP: Info #156: KMP_AFFINITY: 4 available OS procs\n",
      "OMP: Info #157: KMP_AFFINITY: Uniform topology\n",
      "OMP: Info #179: KMP_AFFINITY: 1 packages x 2 cores/pkg x 2 threads/core (2 total cores)\n",
      "OMP: Info #214: KMP_AFFINITY: OS proc to physical thread map:\n",
      "OMP: Info #171: KMP_AFFINITY: OS proc 0 maps to package 0 core 0 thread 0 \n",
      "OMP: Info #171: KMP_AFFINITY: OS proc 2 maps to package 0 core 0 thread 1 \n",
      "OMP: Info #171: KMP_AFFINITY: OS proc 1 maps to package 0 core 1 thread 0 \n",
      "OMP: Info #171: KMP_AFFINITY: OS proc 3 maps to package 0 core 1 thread 1 \n",
      "OMP: Info #250: KMP_AFFINITY: pid 28907 tid 28907 thread 0 bound to OS proc set 0\n",
      "Creating image folder at /home/milhouse/projects/car-behavioral-cloning//models/images_model_meetup\n",
      "RECORDING THIS RUN ...\n",
      "(28907) wsgi starting up on http://0.0.0.0:4567\n",
      "(28907) accepted ('127.0.0.1', 37646)\n",
      "connect  abcb7d7b33a54078851d275a580056d2\n",
      "Avg speed: 9.416849000000003, score: 941.6849000000003\n",
      "Avg speed: 10.404510999999998, score: 2080.9021999999995\n",
      "Avg speed: 10.736610000000006, score: 3220.9830000000015\n",
      "Avg speed: 10.894117000000012, score: 4357.646800000005\n",
      "Avg speed: 10.992046400000003, score: 5496.023200000001\n",
      "Avg speed: 11.054488833333329, score: 6632.693299999997\n",
      "Avg speed: 11.098524999999995, score: 7768.967499999996\n",
      "Avg speed: 11.128702500000005, score: 8902.962000000003\n",
      "Avg speed: 11.149769000000006, score: 10034.792100000006\n",
      "Avg speed: 11.173610300000009, score: 11173.61030000001\n",
      "Avg speed: 11.192425636363641, score: 12311.668200000006\n",
      "Avg speed: 11.210033333333339, score: 13452.040000000006\n",
      "Avg speed: 11.223290076923085, score: 14590.27710000001\n",
      "Avg speed: 11.235089000000011, score: 15729.124600000016\n",
      "Avg speed: 11.245663266666682, score: 16868.494900000023\n",
      "Avg speed: 11.250848812500028, score: 18001.358100000045\n",
      "Avg speed: 11.230409588235334, score: 19091.69630000007\n",
      "Avg speed: 11.232704500000038, score: 20218.86810000007\n",
      "Avg speed: 11.240051368421087, score: 21356.097600000066\n",
      "^C\n"
     ]
    }
   ],
   "source": [
    "!/home/milhouse/miniconda3/envs/car-behavioral-cloning-keras2/bin/python $PROJECT_PATH/my_drive.py $PROJECT_PATH/models/model_meetup_knnr.pickle $PROJECT_PATH/models/images_model_meetup 12 & $PROJECT_PATH/beta_simulator_linux/beta_simulator.x86_64"
   ]
  },
  {
   "cell_type": "code",
   "execution_count": 34,
   "metadata": {},
   "outputs": [],
   "source": [
    "!convert $PROJECT_PATH/models/images_model_meetup/*5.jpg $PROJECT_PATH/models/images_model_knnr.gif"
   ]
  },
  {
   "cell_type": "markdown",
   "metadata": {},
   "source": [
    "<!--<img src=\"../models/images_model_keras_nvidia.gif\" width=\"800\">-->"
   ]
  },
  {
   "cell_type": "code",
   "execution_count": null,
   "metadata": {},
   "outputs": [],
   "source": []
  }
 ],
 "metadata": {
  "accelerator": "GPU",
  "colab": {
   "collapsed_sections": [],
   "name": "Behavioral Cloning with Keras 2.ipynb",
   "provenance": [],
   "version": "0.3.2"
  },
  "kernelspec": {
   "display_name": "car-behavioral-cloning-keras2",
   "language": "python",
   "name": "car-behavioral-cloning-keras2"
  },
  "language_info": {
   "codemirror_mode": {
    "name": "ipython",
    "version": 3
   },
   "file_extension": ".py",
   "mimetype": "text/x-python",
   "name": "python",
   "nbconvert_exporter": "python",
   "pygments_lexer": "ipython3",
   "version": "3.6.8"
  }
 },
 "nbformat": 4,
 "nbformat_minor": 1
}
