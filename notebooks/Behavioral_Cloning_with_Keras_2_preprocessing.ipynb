{
 "cells": [
  {
   "cell_type": "code",
   "execution_count": 1,
   "metadata": {
    "colab": {
     "base_uri": "https://localhost:8080/",
     "height": 34
    },
    "colab_type": "code",
    "id": "S-_m1d42Z_Ix",
    "outputId": "59301455-6419-453c-e0d5-c08eda2c310a"
   },
   "outputs": [],
   "source": [
    "#!wget https://d17h27t6h515a5.cloudfront.net/topher/2016/December/584f6edd_data/data.zip\n",
    "#!unzip data.zip"
   ]
  },
  {
   "cell_type": "code",
   "execution_count": 2,
   "metadata": {},
   "outputs": [
    {
     "name": "stderr",
     "output_type": "stream",
     "text": [
      "Using TensorFlow backend.\n"
     ]
    }
   ],
   "source": [
    "#import os\n",
    "#if os.environ.get(\"PYTHONHASHSEED\") != \"0\":\n",
    "#  raise Exception(\"You must set PYTHONHASHSEED=0 when starting the Jupyter server to get reproducible results.\")\n",
    "\n",
    "import numpy as np\n",
    "import tensorflow as tf\n",
    "import random as rn\n",
    "\n",
    "# The below is necessary in Python 3.2.3 onwards to\n",
    "# have reproducible behavior for certain hash-based operations.\n",
    "# See these references for further details:\n",
    "# https://docs.python.org/3.4/using/cmdline.html#envvar-PYTHONHASHSEED\n",
    "# https://github.com/fchollet/keras/issues/2280#issuecomment-306959926\n",
    "\n",
    "SEED=42\n",
    "np.random.seed(SEED)\n",
    "rn.seed(SEED)\n",
    "\n",
    "session_conf = tf.ConfigProto(intra_op_parallelism_threads=1, inter_op_parallelism_threads=1)\n",
    "from keras import backend as K\n",
    "tf.set_random_seed(SEED)\n",
    "\n",
    "sess = tf.Session(graph=tf.get_default_graph(), config=session_conf)\n",
    "K.set_session(sess)"
   ]
  },
  {
   "cell_type": "code",
   "execution_count": 3,
   "metadata": {},
   "outputs": [
    {
     "name": "stdout",
     "output_type": "stream",
     "text": [
      "keras version: 2.2.4\n",
      "tensorflow version:1.13.1\n"
     ]
    }
   ],
   "source": [
    "from keras import __version__ as keras_version\n",
    "print(\"keras version: {}\".format(keras_version))\n",
    "from tensorflow import __version__ as tf_version\n",
    "print(\"tensorflow version:{}\".format(tf_version ))"
   ]
  },
  {
   "cell_type": "markdown",
   "metadata": {},
   "source": [
    "## Get Data and Generate Dataset"
   ]
  },
  {
   "cell_type": "code",
   "execution_count": 4,
   "metadata": {},
   "outputs": [
    {
     "name": "stdout",
     "output_type": "stream",
     "text": [
      "driving_log.csv  IMG\r\n"
     ]
    }
   ],
   "source": [
    "DATASET_PATH=\"/home/milhouse/datasets/steering_angle/data2\"\n",
    "!ls $DATASET_PATH"
   ]
  },
  {
   "cell_type": "code",
   "execution_count": 5,
   "metadata": {
    "colab": {
     "base_uri": "https://localhost:8080/",
     "height": 34
    },
    "colab_type": "code",
    "id": "ApygA6cKetP8",
    "outputId": "7ca7de34-d5fb-4873-990b-f2dcf68e5b39"
   },
   "outputs": [],
   "source": [
    "#import numpy as np\n",
    "import matplotlib.pyplot as plt\n",
    "import matplotlib.image as npimg\n",
    "import os\n",
    "\n",
    "## Keras\n",
    "import keras\n",
    "from keras.models import Sequential\n",
    "from keras.optimizers import Adam\n",
    "from keras.layers import Convolution2D, MaxPooling2D, Dropout, Flatten, Dense\n",
    "\n",
    "import cv2\n",
    "import pandas as pd\n",
    "#import random\n",
    "import ntpath\n",
    "\n",
    "## Sklearn\n",
    "from sklearn.utils import shuffle\n",
    "from sklearn.model_selection import train_test_split"
   ]
  },
  {
   "cell_type": "code",
   "execution_count": 6,
   "metadata": {
    "colab": {
     "base_uri": "https://localhost:8080/",
     "height": 400
    },
    "colab_type": "code",
    "id": "-vW2OAepfCY7",
    "outputId": "a481b688-42e5-46be-f9c4-c7a66af787c7"
   },
   "outputs": [
    {
     "data": {
      "text/html": [
       "<div>\n",
       "<style scoped>\n",
       "    .dataframe tbody tr th:only-of-type {\n",
       "        vertical-align: middle;\n",
       "    }\n",
       "\n",
       "    .dataframe tbody tr th {\n",
       "        vertical-align: top;\n",
       "    }\n",
       "\n",
       "    .dataframe thead th {\n",
       "        text-align: right;\n",
       "    }\n",
       "</style>\n",
       "<table border=\"1\" class=\"dataframe\">\n",
       "  <thead>\n",
       "    <tr style=\"text-align: right;\">\n",
       "      <th></th>\n",
       "      <th>center</th>\n",
       "      <th>left</th>\n",
       "      <th>right</th>\n",
       "      <th>steering</th>\n",
       "      <th>throttle</th>\n",
       "      <th>brake</th>\n",
       "      <th>speed</th>\n",
       "    </tr>\n",
       "  </thead>\n",
       "  <tbody>\n",
       "    <tr>\n",
       "      <th>0</th>\n",
       "      <td>IMG/center_2016_12_01_13_31_13_037.jpg</td>\n",
       "      <td>IMG/left_2016_12_01_13_31_13_037.jpg</td>\n",
       "      <td>IMG/right_2016_12_01_13_31_13_037.jpg</td>\n",
       "      <td>0.0</td>\n",
       "      <td>0.0</td>\n",
       "      <td>0.0</td>\n",
       "      <td>1.438419</td>\n",
       "    </tr>\n",
       "    <tr>\n",
       "      <th>1</th>\n",
       "      <td>IMG/center_2016_12_01_13_31_13_177.jpg</td>\n",
       "      <td>IMG/left_2016_12_01_13_31_13_177.jpg</td>\n",
       "      <td>IMG/right_2016_12_01_13_31_13_177.jpg</td>\n",
       "      <td>0.0</td>\n",
       "      <td>0.0</td>\n",
       "      <td>0.0</td>\n",
       "      <td>1.418236</td>\n",
       "    </tr>\n",
       "    <tr>\n",
       "      <th>2</th>\n",
       "      <td>IMG/center_2016_12_01_13_31_13_279.jpg</td>\n",
       "      <td>IMG/left_2016_12_01_13_31_13_279.jpg</td>\n",
       "      <td>IMG/right_2016_12_01_13_31_13_279.jpg</td>\n",
       "      <td>0.0</td>\n",
       "      <td>0.0</td>\n",
       "      <td>0.0</td>\n",
       "      <td>1.403993</td>\n",
       "    </tr>\n",
       "    <tr>\n",
       "      <th>3</th>\n",
       "      <td>IMG/center_2016_12_01_13_31_13_381.jpg</td>\n",
       "      <td>IMG/left_2016_12_01_13_31_13_381.jpg</td>\n",
       "      <td>IMG/right_2016_12_01_13_31_13_381.jpg</td>\n",
       "      <td>0.0</td>\n",
       "      <td>0.0</td>\n",
       "      <td>0.0</td>\n",
       "      <td>1.389892</td>\n",
       "    </tr>\n",
       "    <tr>\n",
       "      <th>4</th>\n",
       "      <td>IMG/center_2016_12_01_13_31_13_482.jpg</td>\n",
       "      <td>IMG/left_2016_12_01_13_31_13_482.jpg</td>\n",
       "      <td>IMG/right_2016_12_01_13_31_13_482.jpg</td>\n",
       "      <td>0.0</td>\n",
       "      <td>0.0</td>\n",
       "      <td>0.0</td>\n",
       "      <td>1.375934</td>\n",
       "    </tr>\n",
       "  </tbody>\n",
       "</table>\n",
       "</div>"
      ],
      "text/plain": [
       "                                   center  \\\n",
       "0  IMG/center_2016_12_01_13_31_13_037.jpg   \n",
       "1  IMG/center_2016_12_01_13_31_13_177.jpg   \n",
       "2  IMG/center_2016_12_01_13_31_13_279.jpg   \n",
       "3  IMG/center_2016_12_01_13_31_13_381.jpg   \n",
       "4  IMG/center_2016_12_01_13_31_13_482.jpg   \n",
       "\n",
       "                                    left  \\\n",
       "0   IMG/left_2016_12_01_13_31_13_037.jpg   \n",
       "1   IMG/left_2016_12_01_13_31_13_177.jpg   \n",
       "2   IMG/left_2016_12_01_13_31_13_279.jpg   \n",
       "3   IMG/left_2016_12_01_13_31_13_381.jpg   \n",
       "4   IMG/left_2016_12_01_13_31_13_482.jpg   \n",
       "\n",
       "                                    right  steering  throttle  brake     speed  \n",
       "0   IMG/right_2016_12_01_13_31_13_037.jpg  0.0       0.0       0.0    1.438419  \n",
       "1   IMG/right_2016_12_01_13_31_13_177.jpg  0.0       0.0       0.0    1.418236  \n",
       "2   IMG/right_2016_12_01_13_31_13_279.jpg  0.0       0.0       0.0    1.403993  \n",
       "3   IMG/right_2016_12_01_13_31_13_381.jpg  0.0       0.0       0.0    1.389892  \n",
       "4   IMG/right_2016_12_01_13_31_13_482.jpg  0.0       0.0       0.0    1.375934  "
      ]
     },
     "execution_count": 6,
     "metadata": {},
     "output_type": "execute_result"
    }
   ],
   "source": [
    "## Store data\n",
    "#datadir = 'self-driving-car-data-track-1'\n",
    "datadir = DATASET_PATH\n",
    "#columns = ['center', 'left', 'right', 'steering', 'throttle', 'reverse', 'speed']\n",
    "data = pd.read_csv(os.path.join(datadir, 'driving_log.csv'))\n",
    "pd.set_option('display.max_colwidth', -1)\n",
    "data.head()\n"
   ]
  },
  {
   "cell_type": "code",
   "execution_count": 7,
   "metadata": {
    "colab": {
     "base_uri": "https://localhost:8080/",
     "height": 226
    },
    "colab_type": "code",
    "id": "DPesS6YZhmiR",
    "outputId": "0b57fe4a-2f17-4916-adc2-3008cf331dd1"
   },
   "outputs": [
    {
     "name": "stdout",
     "output_type": "stream",
     "text": [
      "(8033, 7)\n"
     ]
    },
    {
     "data": {
      "text/html": [
       "<div>\n",
       "<style scoped>\n",
       "    .dataframe tbody tr th:only-of-type {\n",
       "        vertical-align: middle;\n",
       "    }\n",
       "\n",
       "    .dataframe tbody tr th {\n",
       "        vertical-align: top;\n",
       "    }\n",
       "\n",
       "    .dataframe thead th {\n",
       "        text-align: right;\n",
       "    }\n",
       "</style>\n",
       "<table border=\"1\" class=\"dataframe\">\n",
       "  <thead>\n",
       "    <tr style=\"text-align: right;\">\n",
       "      <th></th>\n",
       "      <th>center</th>\n",
       "      <th>left</th>\n",
       "      <th>right</th>\n",
       "      <th>steering</th>\n",
       "      <th>throttle</th>\n",
       "      <th>brake</th>\n",
       "      <th>speed</th>\n",
       "    </tr>\n",
       "  </thead>\n",
       "  <tbody>\n",
       "    <tr>\n",
       "      <th>0</th>\n",
       "      <td>center_2016_12_01_13_31_13_037.jpg</td>\n",
       "      <td>left_2016_12_01_13_31_13_037.jpg</td>\n",
       "      <td>right_2016_12_01_13_31_13_037.jpg</td>\n",
       "      <td>0.0</td>\n",
       "      <td>0.0</td>\n",
       "      <td>0.0</td>\n",
       "      <td>1.438419</td>\n",
       "    </tr>\n",
       "    <tr>\n",
       "      <th>1</th>\n",
       "      <td>center_2016_12_01_13_31_13_177.jpg</td>\n",
       "      <td>left_2016_12_01_13_31_13_177.jpg</td>\n",
       "      <td>right_2016_12_01_13_31_13_177.jpg</td>\n",
       "      <td>0.0</td>\n",
       "      <td>0.0</td>\n",
       "      <td>0.0</td>\n",
       "      <td>1.418236</td>\n",
       "    </tr>\n",
       "    <tr>\n",
       "      <th>2</th>\n",
       "      <td>center_2016_12_01_13_31_13_279.jpg</td>\n",
       "      <td>left_2016_12_01_13_31_13_279.jpg</td>\n",
       "      <td>right_2016_12_01_13_31_13_279.jpg</td>\n",
       "      <td>0.0</td>\n",
       "      <td>0.0</td>\n",
       "      <td>0.0</td>\n",
       "      <td>1.403993</td>\n",
       "    </tr>\n",
       "    <tr>\n",
       "      <th>3</th>\n",
       "      <td>center_2016_12_01_13_31_13_381.jpg</td>\n",
       "      <td>left_2016_12_01_13_31_13_381.jpg</td>\n",
       "      <td>right_2016_12_01_13_31_13_381.jpg</td>\n",
       "      <td>0.0</td>\n",
       "      <td>0.0</td>\n",
       "      <td>0.0</td>\n",
       "      <td>1.389892</td>\n",
       "    </tr>\n",
       "    <tr>\n",
       "      <th>4</th>\n",
       "      <td>center_2016_12_01_13_31_13_482.jpg</td>\n",
       "      <td>left_2016_12_01_13_31_13_482.jpg</td>\n",
       "      <td>right_2016_12_01_13_31_13_482.jpg</td>\n",
       "      <td>0.0</td>\n",
       "      <td>0.0</td>\n",
       "      <td>0.0</td>\n",
       "      <td>1.375934</td>\n",
       "    </tr>\n",
       "  </tbody>\n",
       "</table>\n",
       "</div>"
      ],
      "text/plain": [
       "                               center                              left  \\\n",
       "0  center_2016_12_01_13_31_13_037.jpg  left_2016_12_01_13_31_13_037.jpg   \n",
       "1  center_2016_12_01_13_31_13_177.jpg  left_2016_12_01_13_31_13_177.jpg   \n",
       "2  center_2016_12_01_13_31_13_279.jpg  left_2016_12_01_13_31_13_279.jpg   \n",
       "3  center_2016_12_01_13_31_13_381.jpg  left_2016_12_01_13_31_13_381.jpg   \n",
       "4  center_2016_12_01_13_31_13_482.jpg  left_2016_12_01_13_31_13_482.jpg   \n",
       "\n",
       "                               right  steering  throttle  brake     speed  \n",
       "0  right_2016_12_01_13_31_13_037.jpg  0.0       0.0       0.0    1.438419  \n",
       "1  right_2016_12_01_13_31_13_177.jpg  0.0       0.0       0.0    1.418236  \n",
       "2  right_2016_12_01_13_31_13_279.jpg  0.0       0.0       0.0    1.403993  \n",
       "3  right_2016_12_01_13_31_13_381.jpg  0.0       0.0       0.0    1.389892  \n",
       "4  right_2016_12_01_13_31_13_482.jpg  0.0       0.0       0.0    1.375934  "
      ]
     },
     "execution_count": 7,
     "metadata": {},
     "output_type": "execute_result"
    }
   ],
   "source": [
    "def path_leaf(path):\n",
    "  \"\"\"Get tail of path\"\"\"\n",
    "  head, tail = ntpath.split(path)\n",
    "  return tail\n",
    "\n",
    "## Remove path of images\n",
    "data['center'] = data['center'].apply(path_leaf)\n",
    "data['left'] = data['left'].apply(path_leaf)\n",
    "data['right'] = data['right'].apply(path_leaf)\n",
    "print(data.shape)\n",
    "data.head()"
   ]
  },
  {
   "cell_type": "code",
   "execution_count": 8,
   "metadata": {
    "colab": {},
    "colab_type": "code",
    "id": "mujQNa09pSdD"
   },
   "outputs": [],
   "source": [
    "def load_img_steering(datadir, df):\n",
    "  \"\"\"Get img and steering data into arrays\"\"\"\n",
    "  image_path = []\n",
    "  steering = []\n",
    "  for i in range(len(data)):\n",
    "    indexed_data = data.iloc[i]\n",
    "    center, left, right = indexed_data[0], indexed_data[1], indexed_data[2]\n",
    "    image_path.append(os.path.join(datadir, center.strip()))\n",
    "    steering.append(float(indexed_data[3]))\n",
    "  image_paths = np.asarray(image_path)\n",
    "  steerings = np.asarray(steering)\n",
    "  return image_paths, steerings\n",
    "\n",
    "image_paths, steerings = load_img_steering(datadir + '/IMG', data)\n",
    "  "
   ]
  },
  {
   "cell_type": "code",
   "execution_count": 9,
   "metadata": {},
   "outputs": [
    {
     "data": {
      "text/plain": [
       "[<matplotlib.lines.Line2D at 0x7f05d6f01390>]"
      ]
     },
     "execution_count": 9,
     "metadata": {},
     "output_type": "execute_result"
    },
    {
     "data": {
      "image/png": "[encoded data removed]",
      "text/plain": [
       "<Figure size 432x288 with 1 Axes>"
      ]
     },
     "metadata": {
      "needs_background": "light"
     },
     "output_type": "display_data"
    }
   ],
   "source": [
    "## Visualize data\n",
    "num_bins = 25\n",
    "samples_per_bin = 200\n",
    "hist, bins = np.histogram(data['steering'], num_bins)\n",
    "center = bins[:-1] + bins[1:] * 0.5  # center the bins to 0\n",
    "\n",
    "## Plot\n",
    "plt.bar(center, hist, width=0.05)\n",
    "plt.plot((np.min(data['steering']), np.max(data['steering'])), (samples_per_bin, samples_per_bin))"
   ]
  },
  {
   "cell_type": "markdown",
   "metadata": {},
   "source": [
    "### Preprocessing required\n",
    "# 1.- Balance dataset"
   ]
  },
  {
   "cell_type": "code",
   "execution_count": 10,
   "metadata": {
    "colab": {
     "base_uri": "https://localhost:8080/",
     "height": 338
    },
    "colab_type": "code",
    "id": "safleV5ymWhO",
    "outputId": "6cb325d9-c78d-4efc-c3e2-2d62a37ba060"
   },
   "outputs": [
    {
     "name": "stdout",
     "output_type": "stream",
     "text": [
      "Total data: 8033\n",
      "Removed: 6169\n",
      "Remaining: 1864\n"
     ]
    },
    {
     "data": {
      "text/plain": [
       "[<matplotlib.lines.Line2D at 0x7f05d79f7898>]"
      ]
     },
     "execution_count": 10,
     "metadata": {},
     "output_type": "execute_result"
    },
    {
     "data": {
      "image/png": "[encoded data removed]",
      "text/plain": [
       "<Figure size 432x288 with 1 Axes>"
      ]
     },
     "metadata": {
      "needs_background": "light"
     },
     "output_type": "display_data"
    }
   ],
   "source": [
    "## Unskew data: for bins with >samples_per_bin, shuffle them and remove enough to have samples_per_bin \n",
    "print('Total data: {0}'.format(len(data)))\n",
    "\n",
    "## Make list of indices to remove\n",
    "remove_list = []\n",
    "for j in range(num_bins):\n",
    "  list_ = []\n",
    "  for i in range(len(data['steering'])):\n",
    "    steering_angle = data['steering'][i]\n",
    "    if steering_angle >= bins[j] and steering_angle <= bins[j+1]:\n",
    "      list_.append(i)\n",
    "  list_ = shuffle(list_)\n",
    "  list_ = list_[samples_per_bin:]\n",
    "  remove_list.extend(list_)\n",
    "  \n",
    "## Remove from extras from list\n",
    "data.drop(data.index[remove_list], inplace=True)\n",
    "print('Removed: {0}'.format(len(remove_list)))\n",
    "print('Remaining: {0}'.format(len(data)))\n",
    "\n",
    "## Plot\n",
    "hist, _ = np.histogram(data['steering'], (num_bins))\n",
    "plt.bar(center, hist, width=0.05)\n",
    "plt.plot((np.min(data['steering']), np.max(data['steering'])), (samples_per_bin, samples_per_bin))"
   ]
  },
  {
   "cell_type": "code",
   "execution_count": 11,
   "metadata": {},
   "outputs": [
    {
     "name": "stdout",
     "output_type": "stream",
     "text": [
      "Training Samples: 1491\n",
      "Valid Samples: 373\n"
     ]
    },
    {
     "data": {
      "text/plain": [
       "Text(0.5, 1.0, 'Validation set')"
      ]
     },
     "execution_count": 11,
     "metadata": {},
     "output_type": "execute_result"
    },
    {
     "data": {
      "image/png": "[encoded data removed]",
      "text/plain": [
       "<Figure size 864x288 with 2 Axes>"
      ]
     },
     "metadata": {
      "needs_background": "light"
     },
     "output_type": "display_data"
    }
   ],
   "source": [
    "image_paths, steerings = load_img_steering(datadir + '/IMG', data)\n",
    "\n",
    "## Split data into training and validation\n",
    "X_train, X_valid, Y_train, Y_valid = train_test_split(image_paths, steerings, test_size=0.2, random_state=0)\n",
    "\n",
    "## Check that data is valid\n",
    "print(\"Training Samples: {}\\nValid Samples: {}\".format(len(X_train), len(X_valid)))\n",
    "fig, axes = plt.subplots(1, 2, figsize=(12, 4))\n",
    "axes[0].hist(Y_train, bins=num_bins, width=0.05, color='blue')\n",
    "axes[0].set_title('Training set')\n",
    "axes[1].hist(Y_valid, bins=num_bins, width=0.05, color='red')\n",
    "axes[1].set_title('Validation set')"
   ]
  },
  {
   "cell_type": "code",
   "execution_count": 12,
   "metadata": {},
   "outputs": [
    {
     "name": "stdout",
     "output_type": "stream",
     "text": [
      "(1491, 160, 320, 3)\n"
     ]
    },
    {
     "data": {
      "image/png": "[encoded data removed]",
      "text/plain": [
       "<Figure size 432x288 with 1 Axes>"
      ]
     },
     "metadata": {
      "needs_background": "light"
     },
     "output_type": "display_data"
    }
   ],
   "source": [
    "X_train = np.array(list(map(lambda x:npimg.imread(x), X_train)))\n",
    "X_valid = np.array(list(map(lambda x:npimg.imread(x), X_valid)))\n",
    "plt.imshow(X_train[rn.randint(0, len(X_train)-1)])\n",
    "plt.axis('off')\n",
    "print(X_train.shape)\n",
    "IMG_SIZE = X_train[0].shape"
   ]
  },
  {
   "cell_type": "markdown",
   "metadata": {},
   "source": [
    "## Nvidia convolutional network. First flavor \n",
    "https://github.com/tylerlum/self_driving_car"
   ]
  },
  {
   "cell_type": "code",
   "execution_count": 13,
   "metadata": {
    "colab": {},
    "colab_type": "code",
    "id": "EMEwn5h50ZxX"
   },
   "outputs": [],
   "source": [
    "def nvidia_model_tylerlum():\n",
    "  model = Sequential()\n",
    "  model.add(Convolution2D(24, (5, 5), strides=(2, 2), input_shape=IMG_SIZE, activation='elu'))\n",
    "  #model.add(Convolution2D(24, 5, 5, subsample=(2, 2), input_shape=(66, 200, 3), activation='elu'))\n",
    "  model.add(Convolution2D(36, (5, 5), strides=(2, 2), activation='elu'))\n",
    "  model.add(Convolution2D(48, (5, 5), strides=(2, 2), activation='elu'))\n",
    "  model.add(Convolution2D(64, (3, 3), activation='elu'))\n",
    "  model.add(Convolution2D(64, (3, 3), activation='elu'))\n",
    "  model.add(Dropout(0.5))\n",
    "  \n",
    "  model.add(Flatten())\n",
    "  \n",
    "  model.add(Dense(100, activation='elu'))\n",
    "  model.add(Dropout(0.5))\n",
    "  \n",
    "  model.add(Dense(50, activation='elu'))\n",
    "  model.add(Dropout(0.5))\n",
    "  \n",
    "  model.add(Dense(10, activation='elu'))\n",
    "  model.add(Dropout(0.5))\n",
    "  \n",
    "  model.add(Dense(1))\n",
    "  \n",
    "  optimizer = Adam(lr=1e-3)\n",
    "  model.compile(loss='mse', optimizer=optimizer)\n",
    "  return model"
   ]
  },
  {
   "cell_type": "code",
   "execution_count": 14,
   "metadata": {
    "colab": {
     "base_uri": "https://localhost:8080/",
     "height": 642
    },
    "colab_type": "code",
    "id": "7lEbwjbA2Tt8",
    "outputId": "d24cc318-a7d8-401d-86b2-35d1a91e940c"
   },
   "outputs": [
    {
     "name": "stdout",
     "output_type": "stream",
     "text": [
      "WARNING:tensorflow:From /home/milhouse/miniconda3/envs/car-behavioral-cloning-keras2/lib/python3.6/site-packages/tensorflow/python/framework/op_def_library.py:263: colocate_with (from tensorflow.python.framework.ops) is deprecated and will be removed in a future version.\n",
      "Instructions for updating:\n",
      "Colocations handled automatically by placer.\n",
      "WARNING:tensorflow:From /home/milhouse/miniconda3/envs/car-behavioral-cloning-keras2/lib/python3.6/site-packages/keras/backend/tensorflow_backend.py:3445: calling dropout (from tensorflow.python.ops.nn_ops) with keep_prob is deprecated and will be removed in a future version.\n",
      "Instructions for updating:\n",
      "Please use `rate` instead of `keep_prob`. Rate should be set to `rate = 1 - keep_prob`.\n",
      "_________________________________________________________________\n",
      "Layer (type)                 Output Shape              Param #   \n",
      "=================================================================\n",
      "conv2d_1 (Conv2D)            (None, 78, 158, 24)       1824      \n",
      "_________________________________________________________________\n",
      "conv2d_2 (Conv2D)            (None, 37, 77, 36)        21636     \n",
      "_________________________________________________________________\n",
      "conv2d_3 (Conv2D)            (None, 17, 37, 48)        43248     \n",
      "_________________________________________________________________\n",
      "conv2d_4 (Conv2D)            (None, 15, 35, 64)        27712     \n",
      "_________________________________________________________________\n",
      "conv2d_5 (Conv2D)            (None, 13, 33, 64)        36928     \n",
      "_________________________________________________________________\n",
      "dropout_1 (Dropout)          (None, 13, 33, 64)        0         \n",
      "_________________________________________________________________\n",
      "flatten_1 (Flatten)          (None, 27456)             0         \n",
      "_________________________________________________________________\n",
      "dense_1 (Dense)              (None, 100)               2745700   \n",
      "_________________________________________________________________\n",
      "dropout_2 (Dropout)          (None, 100)               0         \n",
      "_________________________________________________________________\n",
      "dense_2 (Dense)              (None, 50)                5050      \n",
      "_________________________________________________________________\n",
      "dropout_3 (Dropout)          (None, 50)                0         \n",
      "_________________________________________________________________\n",
      "dense_3 (Dense)              (None, 10)                510       \n",
      "_________________________________________________________________\n",
      "dropout_4 (Dropout)          (None, 10)                0         \n",
      "_________________________________________________________________\n",
      "dense_4 (Dense)              (None, 1)                 11        \n",
      "=================================================================\n",
      "Total params: 2,882,619\n",
      "Trainable params: 2,882,619\n",
      "Non-trainable params: 0\n",
      "_________________________________________________________________\n",
      "None\n"
     ]
    }
   ],
   "source": [
    "model = nvidia_model_tylerlum()\n",
    "print(model.summary())"
   ]
  },
  {
   "cell_type": "code",
   "execution_count": 15,
   "metadata": {},
   "outputs": [],
   "source": [
    "# To visualize on Tensorboard\n",
    "graph = K.get_session().graph\n",
    "\n",
    "# Display with the tensorflow file writer\n",
    "writer = tf.summary.FileWriter(logdir='logdir', graph=graph)\n",
    "writer.flush()"
   ]
  },
  {
   "cell_type": "code",
   "execution_count": 16,
   "metadata": {
    "colab": {
     "base_uri": "https://localhost:8080/",
     "height": 1148
    },
    "colab_type": "code",
    "id": "6rhu7nfxGrj1",
    "outputId": "7860a6ce-f1e0-481c-de11-f1d34053bafe"
   },
   "outputs": [
    {
     "name": "stdout",
     "output_type": "stream",
     "text": [
      "WARNING:tensorflow:From /home/milhouse/miniconda3/envs/car-behavioral-cloning-keras2/lib/python3.6/site-packages/tensorflow/python/ops/math_ops.py:3066: to_int32 (from tensorflow.python.ops.math_ops) is deprecated and will be removed in a future version.\n",
      "Instructions for updating:\n",
      "Use tf.cast instead.\n",
      "Train on 1491 samples, validate on 373 samples\n",
      "Epoch 1/30\n",
      "1491/1491 [==============================] - 38s 26ms/step - loss: 1280566.9254 - val_loss: 1.1779\n",
      "Epoch 2/30\n",
      "1491/1491 [==============================] - 36s 24ms/step - loss: 6.7827 - val_loss: 0.4867\n",
      "Epoch 3/30\n",
      "1491/1491 [==============================] - 36s 24ms/step - loss: 6.2036 - val_loss: 0.3154\n",
      "Epoch 4/30\n",
      "1491/1491 [==============================] - 36s 24ms/step - loss: 5.7453 - val_loss: 0.2301\n",
      "Epoch 5/30\n",
      "1491/1491 [==============================] - 36s 24ms/step - loss: 5.6423 - val_loss: 0.1706\n",
      "Epoch 6/30\n",
      "1491/1491 [==============================] - 36s 24ms/step - loss: 5.7472 - val_loss: 0.1202\n",
      "Epoch 7/30\n",
      "1491/1491 [==============================] - 36s 24ms/step - loss: 5.0767 - val_loss: 0.0890\n",
      "Epoch 8/30\n",
      "1491/1491 [==============================] - 36s 24ms/step - loss: 4.8579 - val_loss: 0.0703\n",
      "Epoch 9/30\n",
      "1491/1491 [==============================] - 37s 25ms/step - loss: 4.5611 - val_loss: 0.0610\n",
      "Epoch 10/30\n",
      "1491/1491 [==============================] - 35s 24ms/step - loss: 4.3433 - val_loss: 0.0580\n",
      "Epoch 11/30\n",
      "1491/1491 [==============================] - 35s 24ms/step - loss: 4.4269 - val_loss: 0.0593\n",
      "Epoch 12/30\n",
      "1491/1491 [==============================] - 35s 23ms/step - loss: 3.6599 - val_loss: 0.0634\n",
      "Epoch 13/30\n",
      "1491/1491 [==============================] - 41s 27ms/step - loss: 4.1339 - val_loss: 0.0691\n",
      "Epoch 14/30\n",
      "1491/1491 [==============================] - 35s 23ms/step - loss: 4.2715 - val_loss: 0.0778\n",
      "Epoch 15/30\n",
      "1491/1491 [==============================] - 35s 23ms/step - loss: 3.9659 - val_loss: 0.0883\n",
      "Epoch 16/30\n",
      "1491/1491 [==============================] - 35s 23ms/step - loss: 3.7121 - val_loss: 0.0972\n",
      "Epoch 17/30\n",
      "1491/1491 [==============================] - 35s 23ms/step - loss: 3.8648 - val_loss: 0.1059\n",
      "Epoch 18/30\n",
      "1491/1491 [==============================] - 35s 23ms/step - loss: 3.6131 - val_loss: 0.1136\n",
      "Epoch 19/30\n",
      "1491/1491 [==============================] - 35s 24ms/step - loss: 3.3999 - val_loss: 0.1188\n",
      "Epoch 20/30\n",
      "1491/1491 [==============================] - 35s 23ms/step - loss: 3.8141 - val_loss: 0.1258\n",
      "Epoch 21/30\n",
      "1491/1491 [==============================] - 35s 24ms/step - loss: 3.6048 - val_loss: 0.1300\n",
      "Epoch 22/30\n",
      "1491/1491 [==============================] - 35s 23ms/step - loss: 3.1074 - val_loss: 0.1326\n",
      "Epoch 23/30\n",
      "1491/1491 [==============================] - 35s 24ms/step - loss: 3.4806 - val_loss: 0.1366\n",
      "Epoch 24/30\n",
      "1491/1491 [==============================] - 35s 24ms/step - loss: 3.4466 - val_loss: 0.1410\n",
      "Epoch 25/30\n",
      "1491/1491 [==============================] - 37s 25ms/step - loss: 3.3666 - val_loss: 0.1412\n",
      "Epoch 26/30\n",
      "1491/1491 [==============================] - 32s 21ms/step - loss: 3.2338 - val_loss: 0.1439\n",
      "Epoch 27/30\n",
      "1491/1491 [==============================] - 31s 21ms/step - loss: 3.3606 - val_loss: 0.1469\n",
      "Epoch 28/30\n",
      "1491/1491 [==============================] - 31s 21ms/step - loss: 3.3815 - val_loss: 0.1466\n",
      "Epoch 29/30\n",
      "1491/1491 [==============================] - 31s 21ms/step - loss: 3.0822 - val_loss: 0.1444\n",
      "Epoch 30/30\n",
      "1491/1491 [==============================] - 31s 21ms/step - loss: 3.1012 - val_loss: 0.1418\n"
     ]
    }
   ],
   "source": [
    "np.random.seed(SEED)\n",
    "history = model.fit(X_train, Y_train, epochs=30, validation_data=(X_valid, Y_valid), batch_size=100, verbose=1, shuffle=1)"
   ]
  },
  {
   "cell_type": "code",
   "execution_count": 24,
   "metadata": {},
   "outputs": [
    {
     "data": {
      "text/plain": [
       "Text(0.5, 0, 'Epoch')"
      ]
     },
     "execution_count": 24,
     "metadata": {},
     "output_type": "execute_result"
    },
    {
     "data": {
      "image/png": "[encoded data removed]",
      "text/plain": [
       "<Figure size 432x288 with 1 Axes>"
      ]
     },
     "metadata": {
      "needs_background": "light"
     },
     "output_type": "display_data"
    }
   ],
   "source": [
    "plt.plot(history.history['loss'][1:])\n",
    "plt.plot(history.history['val_loss'][1:])\n",
    "plt.legend(['training', 'validation'])\n",
    "plt.title('Loss')\n",
    "plt.xlabel('Epoch')"
   ]
  },
  {
   "cell_type": "code",
   "execution_count": 18,
   "metadata": {},
   "outputs": [],
   "source": [
    "PROJECT_PATH=\"/home/milhouse/projects/car-behavioral-cloning/\""
   ]
  },
  {
   "cell_type": "code",
   "execution_count": 19,
   "metadata": {},
   "outputs": [
    {
     "name": "stdout",
     "output_type": "stream",
     "text": [
      "Found path: /home/milhouse/projects/car-behavioral-cloning//beta_simulator_linux/beta_simulator.x86_64\n",
      "Mono path[0] = '/home/milhouse/projects/car-behavioral-cloning//beta_simulator_linux/beta_simulator_Data/Managed'\n",
      "Mono path[1] = '/home/milhouse/projects/car-behavioral-cloning//beta_simulator_linux/beta_simulator_Data/Mono'\n",
      "Mono config path = '/home/milhouse/projects/car-behavioral-cloning//beta_simulator_linux/beta_simulator_Data/Mono/etc'\n",
      "displaymanager : xrandr version warning. 1.5\n",
      "client has 4 screens\n",
      "displaymanager screen (0)(eDP1): 1366 x 768\n",
      "Using libudev for joystick management\n",
      "\n",
      "\n",
      "Importing game controller configs\n",
      "Using TensorFlow backend.\n",
      "WARNING:tensorflow:From /home/milhouse/miniconda3/envs/car-behavioral-cloning-keras2/lib/python3.6/site-packages/tensorflow/python/framework/op_def_library.py:263: colocate_with (from tensorflow.python.framework.ops) is deprecated and will be removed in a future version.\n",
      "Instructions for updating:\n",
      "Colocations handled automatically by placer.\n",
      "WARNING:tensorflow:From /home/milhouse/miniconda3/envs/car-behavioral-cloning-keras2/lib/python3.6/site-packages/keras/backend/tensorflow_backend.py:3445: calling dropout (from tensorflow.python.ops.nn_ops) with keep_prob is deprecated and will be removed in a future version.\n",
      "Instructions for updating:\n",
      "Please use `rate` instead of `keep_prob`. Rate should be set to `rate = 1 - keep_prob`.\n",
      "2019-05-22 21:35:15.456463: I tensorflow/core/platform/cpu_feature_guard.cc:141] Your CPU supports instructions that this TensorFlow binary was not compiled to use: SSE4.1 SSE4.2 AVX AVX2 FMA\n",
      "2019-05-22 21:35:15.463452: I tensorflow/core/platform/profile_utils/cpu_utils.cc:94] CPU Frequency: 2394390000 Hz\n",
      "2019-05-22 21:35:15.463745: I tensorflow/compiler/xla/service/service.cc:150] XLA service 0x563585c55850 executing computations on platform Host. Devices:\n",
      "2019-05-22 21:35:15.463777: I tensorflow/compiler/xla/service/service.cc:158]   StreamExecutor device (0): <undefined>, <undefined>\n",
      "OMP: Info #212: KMP_AFFINITY: decoding x2APIC ids.\n",
      "OMP: Info #210: KMP_AFFINITY: Affinity capable, using global cpuid leaf 11 info\n",
      "OMP: Info #154: KMP_AFFINITY: Initial OS proc set respected: 0-3\n",
      "OMP: Info #156: KMP_AFFINITY: 4 available OS procs\n",
      "OMP: Info #157: KMP_AFFINITY: Uniform topology\n",
      "OMP: Info #179: KMP_AFFINITY: 1 packages x 2 cores/pkg x 2 threads/core (2 total cores)\n",
      "OMP: Info #214: KMP_AFFINITY: OS proc to physical thread map:\n",
      "OMP: Info #171: KMP_AFFINITY: OS proc 0 maps to package 0 core 0 thread 0 \n",
      "OMP: Info #171: KMP_AFFINITY: OS proc 2 maps to package 0 core 0 thread 1 \n",
      "OMP: Info #171: KMP_AFFINITY: OS proc 1 maps to package 0 core 1 thread 0 \n",
      "OMP: Info #171: KMP_AFFINITY: OS proc 3 maps to package 0 core 1 thread 1 \n",
      "OMP: Info #250: KMP_AFFINITY: pid 15121 tid 15121 thread 0 bound to OS proc set 0\n",
      "2019-05-22 21:35:15.464263: I tensorflow/core/common_runtime/process_util.cc:71] Creating new thread pool with default inter op setting: 2. Tune using inter_op_parallelism_threads for best performance.\n",
      "WARNING:tensorflow:From /home/milhouse/miniconda3/envs/car-behavioral-cloning-keras2/lib/python3.6/site-packages/tensorflow/python/ops/math_ops.py:3066: to_int32 (from tensorflow.python.ops.math_ops) is deprecated and will be removed in a future version.\n",
      "Instructions for updating:\n",
      "Use tf.cast instead.\n",
      "Creating image folder at /home/milhouse/projects/car-behavioral-cloning//models/images_model_meetup\n",
      "RECORDING THIS RUN ...\n",
      "(15121) wsgi starting up on http://0.0.0.0:4567\n",
      "(15121) accepted ('127.0.0.1', 42799)\n",
      "connect  c7c6cb091d8b426cb264176870ab15be\n",
      "OMP: Info #250: KMP_AFFINITY: pid 15121 tid 15147 thread 1 bound to OS proc set 1\n",
      "OMP: Info #250: KMP_AFFINITY: pid 15121 tid 15243 thread 2 bound to OS proc set 2\n",
      "OMP: Info #250: KMP_AFFINITY: pid 15121 tid 15244 thread 3 bound to OS proc set 3\n",
      "OMP: Info #250: KMP_AFFINITY: pid 15121 tid 15245 thread 4 bound to OS proc set 0\n",
      "Steering angle: 0.29 and throttle: 0.87\n",
      "OMP: Info #250: KMP_AFFINITY: pid 15121 tid 15148 thread 5 bound to OS proc set 1\n",
      "OMP: Info #250: KMP_AFFINITY: pid 15121 tid 15246 thread 6 bound to OS proc set 2\n",
      "Steering angle: 0.29 and throttle: 0.89\n",
      "Steering angle: 0.29 and throttle: 0.86\n",
      "Steering angle: 0.29 and throttle: 0.79\n",
      "Steering angle: 0.29 and throttle: 0.81\n",
      "Steering angle: 0.29 and throttle: 0.82\n",
      "Steering angle: 0.29 and throttle: 0.93\n",
      "Steering angle: 0.29 and throttle: 0.95\n",
      "Steering angle: 0.29 and throttle: 0.97\n",
      "Steering angle: 0.29 and throttle: 0.91\n",
      "Steering angle: 0.29 and throttle: 0.93\n",
      "OMP: Info #250: KMP_AFFINITY: pid 15121 tid 15248 thread 7 bound to OS proc set 3\n",
      "OMP: Info #250: KMP_AFFINITY: pid 15121 tid 15249 thread 8 bound to OS proc set 0\n",
      "Steering angle: 0.29 and throttle: 0.94\n",
      "Steering angle: 0.29 and throttle: 0.84\n",
      "Steering angle: 0.29 and throttle: 0.85\n",
      "Steering angle: 0.29 and throttle: 0.86\n",
      "Steering angle: 0.29 and throttle: 0.77\n",
      "Steering angle: 0.29 and throttle: 0.78\n",
      "Steering angle: 0.29 and throttle: 0.79\n",
      "Steering angle: 0.29 and throttle: 0.66\n",
      "Steering angle: 0.29 and throttle: 0.67\n",
      "Steering angle: 0.29 and throttle: 0.68\n",
      "Steering angle: 0.29 and throttle: 0.54\n",
      "Steering angle: 0.29 and throttle: 0.55\n",
      "Steering angle: 0.29 and throttle: 0.55\n",
      "Steering angle: 0.29 and throttle: 0.41\n",
      "Steering angle: 0.29 and throttle: 0.41\n",
      "Steering angle: 0.29 and throttle: 0.41\n",
      "Steering angle: 0.29 and throttle: 0.32\n",
      "Steering angle: 0.29 and throttle: 0.32\n",
      "Steering angle: 0.29 and throttle: 0.32\n",
      "Steering angle: 0.29 and throttle: 0.24\n",
      "Steering angle: 0.29 and throttle: 0.24\n",
      "Steering angle: 0.29 and throttle: 0.24\n",
      "Steering angle: 0.29 and throttle: 0.18\n",
      "Steering angle: 0.29 and throttle: 0.18\n",
      "Steering angle: 0.29 and throttle: 0.18\n",
      "Steering angle: 0.29 and throttle: 0.14\n",
      "Steering angle: 0.29 and throttle: 0.14\n",
      "Steering angle: 0.29 and throttle: 0.14\n",
      "Steering angle: 0.29 and throttle: 0.12\n",
      "Steering angle: 0.29 and throttle: 0.11\n",
      "Steering angle: 0.29 and throttle: 0.11\n",
      "Steering angle: 0.29 and throttle: 0.10\n",
      "Steering angle: 0.29 and throttle: 0.09\n",
      "Steering angle: 0.29 and throttle: 0.09\n",
      "Steering angle: 0.29 and throttle: 0.09\n",
      "Steering angle: 0.29 and throttle: 0.08\n",
      "Steering angle: 0.29 and throttle: 0.08\n",
      "Steering angle: 0.29 and throttle: 0.08\n",
      "Steering angle: 0.29 and throttle: 0.08\n",
      "Steering angle: 0.29 and throttle: 0.07\n",
      "Steering angle: 0.29 and throttle: 0.11\n",
      "Steering angle: 0.29 and throttle: 0.10\n",
      "Steering angle: 0.29 and throttle: 0.10\n",
      "Steering angle: 0.29 and throttle: 0.15\n",
      "Steering angle: 0.29 and throttle: 0.15\n",
      "Steering angle: 0.29 and throttle: 0.15\n",
      "Steering angle: 0.29 and throttle: 0.17\n",
      "Steering angle: 0.29 and throttle: 0.16\n",
      "Steering angle: 0.29 and throttle: 0.16\n",
      "Steering angle: 0.29 and throttle: 0.14\n",
      "Steering angle: 0.29 and throttle: 0.14\n",
      "Steering angle: 0.29 and throttle: 0.14\n",
      "Steering angle: 0.29 and throttle: 0.27\n",
      "Steering angle: 0.29 and throttle: 0.27\n",
      "Steering angle: 0.29 and throttle: 0.27\n",
      "Steering angle: 0.29 and throttle: 0.34\n",
      "Steering angle: 0.29 and throttle: 0.34\n",
      "Steering angle: 0.29 and throttle: 0.34\n",
      "Steering angle: 0.29 and throttle: 0.39\n",
      "Steering angle: 0.29 and throttle: 0.39\n",
      "Steering angle: 0.29 and throttle: 0.40\n",
      "Steering angle: 0.29 and throttle: 0.36\n",
      "Steering angle: 0.29 and throttle: 0.36\n",
      "Steering angle: 0.29 and throttle: 0.37\n",
      "Steering angle: 0.29 and throttle: 0.30\n",
      "Steering angle: 0.29 and throttle: 0.30\n",
      "Steering angle: 0.29 and throttle: 0.30\n",
      "Steering angle: 0.29 and throttle: 0.56\n",
      "Steering angle: 0.29 and throttle: 0.57\n",
      "Steering angle: 0.29 and throttle: 0.57\n",
      "Steering angle: 0.29 and throttle: 0.60\n",
      "Steering angle: 0.29 and throttle: 0.61\n",
      "Steering angle: 0.29 and throttle: 0.61\n",
      "Steering angle: 0.29 and throttle: 0.63\n",
      "Steering angle: 0.29 and throttle: 0.64\n",
      "Steering angle: 0.29 and throttle: 0.64\n",
      "Steering angle: 0.29 and throttle: 0.60\n",
      "Steering angle: 0.29 and throttle: 0.60\n",
      "Steering angle: 0.29 and throttle: 0.61\n",
      "Steering angle: 0.29 and throttle: 0.61\n",
      "Steering angle: 0.29 and throttle: 0.62\n",
      "Steering angle: 0.29 and throttle: 0.62\n",
      "Steering angle: 0.29 and throttle: 0.73\n",
      "Steering angle: 0.29 and throttle: 0.74\n",
      "Steering angle: 0.29 and throttle: 0.75\n",
      "Steering angle: 0.29 and throttle: 0.59\n",
      "Steering angle: 0.29 and throttle: 0.59\n",
      "Steering angle: 0.29 and throttle: 0.60\n",
      "Steering angle: 0.29 and throttle: 0.42\n"
     ]
    },
    {
     "name": "stdout",
     "output_type": "stream",
     "text": [
      "Steering angle: 0.29 and throttle: 0.42\n",
      "Steering angle: 0.29 and throttle: 0.42\n",
      "Steering angle: 0.29 and throttle: 0.23\n",
      "Steering angle: 0.29 and throttle: 0.19\n",
      "Steering angle: 0.29 and throttle: 0.19\n",
      "Steering angle: 0.29 and throttle: 0.15\n",
      "Steering angle: 0.29 and throttle: 0.10\n",
      "Steering angle: 0.29 and throttle: 0.09\n",
      "Steering angle: 0.29 and throttle: 0.11\n",
      "Steering angle: 0.29 and throttle: 0.10\n",
      "Steering angle: 0.29 and throttle: 0.10\n",
      "Steering angle: 0.29 and throttle: 0.05\n",
      "Steering angle: 0.29 and throttle: 0.05\n",
      "Steering angle: 0.29 and throttle: 0.04\n",
      "Steering angle: 0.29 and throttle: 0.04\n",
      "Steering angle: 0.29 and throttle: 0.05\n",
      "Steering angle: 0.29 and throttle: 0.04\n",
      "Steering angle: 0.29 and throttle: 0.04\n",
      "Steering angle: 0.29 and throttle: 0.05\n",
      "Steering angle: 0.29 and throttle: 0.04\n",
      "Steering angle: 0.29 and throttle: 0.14\n",
      "Steering angle: 0.29 and throttle: 0.15\n",
      "Steering angle: 0.29 and throttle: 0.15\n",
      "Steering angle: 0.29 and throttle: 0.20\n",
      "Steering angle: 0.29 and throttle: 0.19\n",
      "Steering angle: 0.29 and throttle: 0.19\n",
      "Steering angle: 0.29 and throttle: 0.23\n",
      "Steering angle: 0.29 and throttle: 0.23\n",
      "Steering angle: 0.29 and throttle: 0.23\n",
      "Steering angle: 0.29 and throttle: 0.28\n",
      "Steering angle: 0.29 and throttle: 0.28\n",
      "Steering angle: 0.29 and throttle: 0.28\n",
      "Steering angle: 0.29 and throttle: 0.38\n",
      "Steering angle: 0.29 and throttle: 0.38\n",
      "Steering angle: 0.29 and throttle: 0.38\n",
      "Steering angle: 0.29 and throttle: 0.45\n",
      "Steering angle: 0.29 and throttle: 0.45\n",
      "Steering angle: 0.29 and throttle: 0.46\n",
      "Steering angle: 0.29 and throttle: 0.50\n",
      "Steering angle: 0.29 and throttle: 0.50\n",
      "^C\n",
      "127.0.0.1 - - [22/May/2019 21:35:55] \"GET /socket.io/?EIO=4&transport=websocket HTTP/1.1\" 200 0 9.315094\n"
     ]
    }
   ],
   "source": [
    "model.save('{}/models/model_meetup.h5'.format(PROJECT_PATH))\n",
    "!/home/milhouse/miniconda3/envs/car-behavioral-cloning-keras2/bin/python $PROJECT_PATH/drive_original.py $PROJECT_PATH/models/model_meetup.h5 $PROJECT_PATH/models/images_model_meetup & $PROJECT_PATH/beta_simulator_linux/beta_simulator.x86_64 "
   ]
  },
  {
   "cell_type": "code",
   "execution_count": 25,
   "metadata": {},
   "outputs": [],
   "source": [
    "!convert $PROJECT_PATH/models/images_model_meetup/*5.jpg $PROJECT_PATH/models/images_model_tylerlum_balanced.gif"
   ]
  },
  {
   "cell_type": "markdown",
   "metadata": {},
   "source": [
    "<img src=\"../models/images_model_tylerlum_balanced.gif\" width=\"800\">"
   ]
  },
  {
   "cell_type": "markdown",
   "metadata": {},
   "source": [
    "![Lauda](https://media.giphy.com/media/pZsI3Q15AzN60/giphy.gif \"lauda\")"
   ]
  },
  {
   "cell_type": "markdown",
   "metadata": {},
   "source": [
    "## More preprocessing"
   ]
  },
  {
   "cell_type": "code",
   "execution_count": 26,
   "metadata": {},
   "outputs": [
    {
     "name": "stdout",
     "output_type": "stream",
     "text": [
      "Training Samples: 1491\n",
      "Valid Samples: 373\n"
     ]
    },
    {
     "data": {
      "text/plain": [
       "Text(0.5, 1.0, 'Validation set')"
      ]
     },
     "execution_count": 26,
     "metadata": {},
     "output_type": "execute_result"
    },
    {
     "data": {
      "image/png": "[encoded data removed]",
      "text/plain": [
       "<Figure size 864x288 with 2 Axes>"
      ]
     },
     "metadata": {
      "needs_background": "light"
     },
     "output_type": "display_data"
    }
   ],
   "source": [
    "image_paths, steerings = load_img_steering(datadir + '/IMG', data)\n",
    "\n",
    "## Split data into training and validation\n",
    "X_train, X_valid, Y_train, Y_valid = train_test_split(image_paths, steerings, test_size=0.2, random_state=0)\n",
    "\n",
    "## Check that data is valid\n",
    "print(\"Training Samples: {}\\nValid Samples: {}\".format(len(X_train), len(X_valid)))\n",
    "fig, axes = plt.subplots(1, 2, figsize=(12, 4))\n",
    "axes[0].hist(Y_train, bins=num_bins, width=0.05, color='blue')\n",
    "axes[0].set_title('Training set')\n",
    "axes[1].hist(Y_valid, bins=num_bins, width=0.05, color='red')\n",
    "axes[1].set_title('Validation set')\n",
    "\n"
   ]
  },
  {
   "cell_type": "code",
   "execution_count": 27,
   "metadata": {
    "colab": {},
    "colab_type": "code",
    "id": "1YjydsuUxJ7k"
   },
   "outputs": [],
   "source": [
    "def img_preprocess(img):\n",
    "    img = npimg.imread(img)\n",
    "    y_crop = 60\n",
    "    x_pix = 160\n",
    "    y_pix = 100\n",
    "    \"\"\"\n",
    "    Resize and Normalize images\n",
    "    :param path_img: image in bgr\n",
    "    :param x_pix: final x pixels size\n",
    "    :param y_pix: final y pixels size\n",
    "    :param y_crop: y pixels to crop image\n",
    "    :return: processed image\n",
    "    \"\"\"\n",
    "    b, g, r = cv2.split(img)  # get b,g,r\n",
    "    img = cv2.merge([r, g, b])  # switch it to rgb\n",
    "    # normalize image:\n",
    "    cv2.normalize(img, img, alpha=0, beta=1, norm_type=cv2.NORM_MINMAX, dtype=cv2.CV_32F)\n",
    "    # crop image:\n",
    "    img = img[y_crop:, :, :]\n",
    "    # resize image:\n",
    "    img = cv2.resize(img, (x_pix, y_pix), interpolation=cv2.INTER_CUBIC)\n",
    "    return img"
   ]
  },
  {
   "cell_type": "code",
   "execution_count": 28,
   "metadata": {},
   "outputs": [
    {
     "name": "stdout",
     "output_type": "stream",
     "text": [
      "(1491, 100, 160, 3)\n",
      "(100, 160, 3)\n"
     ]
    },
    {
     "data": {
      "image/png": "[encoded data removed]",
      "text/plain": [
       "<Figure size 432x288 with 1 Axes>"
      ]
     },
     "metadata": {
      "needs_background": "light"
     },
     "output_type": "display_data"
    }
   ],
   "source": [
    "## Preprocess data\n",
    "X_train = np.array(list(map(img_preprocess, X_train)))\n",
    "X_valid = np.array(list(map(img_preprocess, X_valid)))\n",
    "plt.imshow(X_train[rn.randint(0, len(X_train)-1)])\n",
    "plt.axis('off')\n",
    "print(X_train.shape)\n",
    "IMG_SIZE=X_train[0].shape\n",
    "print(IMG_SIZE)"
   ]
  },
  {
   "cell_type": "code",
   "execution_count": 29,
   "metadata": {},
   "outputs": [],
   "source": [
    "def nvidia_model_tylerlum_relu():\n",
    "  model = Sequential()\n",
    "  model.add(Convolution2D(24, (5, 5), strides=(2, 2), input_shape=IMG_SIZE, activation='relu'))\n",
    "  #model.add(Convolution2D(24, 5, 5, subsample=(2, 2), input_shape=(66, 200, 3), activation='elu'))\n",
    "  model.add(Convolution2D(36, (5, 5), strides=(2, 2), activation='relu'))\n",
    "  model.add(Convolution2D(48, (5, 5), strides=(2, 2), activation='relu'))\n",
    "  model.add(Convolution2D(64, (3, 3), activation='relu'))\n",
    "  model.add(Convolution2D(64, (3, 3), activation='relu'))\n",
    "  model.add(Dropout(0.5))\n",
    "  \n",
    "  model.add(Flatten())\n",
    "  \n",
    "  model.add(Dense(100, activation='relu'))\n",
    "  model.add(Dropout(0.5))\n",
    "  \n",
    "  model.add(Dense(50, activation='relu'))\n",
    "  model.add(Dropout(0.5))\n",
    "  \n",
    "  model.add(Dense(10, activation='relu'))\n",
    "  model.add(Dropout(0.5))\n",
    "  \n",
    "  model.add(Dense(1))\n",
    "  \n",
    "  model.compile(loss='mse', optimizer='adam')\n",
    "  return model"
   ]
  },
  {
   "cell_type": "code",
   "execution_count": 30,
   "metadata": {},
   "outputs": [
    {
     "name": "stdout",
     "output_type": "stream",
     "text": [
      "Train on 1491 samples, validate on 373 samples\n",
      "Epoch 1/30\n",
      "1491/1491 [==============================] - 9s 6ms/step - loss: 132.0647 - val_loss: 0.5610\n",
      "Epoch 2/30\n",
      "1491/1491 [==============================] - 7s 4ms/step - loss: 6.0035 - val_loss: 0.1336\n",
      "Epoch 3/30\n",
      "1491/1491 [==============================] - 6s 4ms/step - loss: 2.7017 - val_loss: 0.0743\n",
      "Epoch 4/30\n",
      "1491/1491 [==============================] - 6s 4ms/step - loss: 1.3714 - val_loss: 0.0644\n",
      "Epoch 5/30\n",
      "1491/1491 [==============================] - 6s 4ms/step - loss: 1.0501 - val_loss: 0.0655\n",
      "Epoch 6/30\n",
      "1491/1491 [==============================] - 6s 4ms/step - loss: 0.9921 - val_loss: 0.0629\n",
      "Epoch 7/30\n",
      "1491/1491 [==============================] - 6s 4ms/step - loss: 0.8032 - val_loss: 0.0611\n",
      "Epoch 8/30\n",
      "1491/1491 [==============================] - 7s 5ms/step - loss: 0.5680 - val_loss: 0.0599\n",
      "Epoch 9/30\n",
      "1491/1491 [==============================] - 7s 4ms/step - loss: 0.5617 - val_loss: 0.0581\n",
      "Epoch 10/30\n",
      "1491/1491 [==============================] - 7s 5ms/step - loss: 0.4611 - val_loss: 0.0570\n",
      "Epoch 11/30\n",
      "1491/1491 [==============================] - 7s 5ms/step - loss: 0.3389 - val_loss: 0.0566\n",
      "Epoch 12/30\n",
      "1491/1491 [==============================] - 8s 5ms/step - loss: 0.3083 - val_loss: 0.0569\n",
      "Epoch 13/30\n",
      "1491/1491 [==============================] - 8s 5ms/step - loss: 0.2549 - val_loss: 0.0560\n",
      "Epoch 14/30\n",
      "1491/1491 [==============================] - 8s 6ms/step - loss: 0.2544 - val_loss: 0.0552\n",
      "Epoch 15/30\n",
      "1491/1491 [==============================] - 10s 7ms/step - loss: 0.1699 - val_loss: 0.0556\n",
      "Epoch 16/30\n",
      "1491/1491 [==============================] - 8s 5ms/step - loss: 0.1625 - val_loss: 0.0567\n",
      "Epoch 17/30\n",
      "1491/1491 [==============================] - 7s 5ms/step - loss: 0.1080 - val_loss: 0.0575\n",
      "Epoch 18/30\n",
      "1491/1491 [==============================] - 7s 5ms/step - loss: 0.1097 - val_loss: 0.0577\n",
      "Epoch 19/30\n",
      "1491/1491 [==============================] - 7s 5ms/step - loss: 0.0869 - val_loss: 0.0579\n",
      "Epoch 20/30\n",
      "1491/1491 [==============================] - 9s 6ms/step - loss: 0.0799 - val_loss: 0.0579\n",
      "Epoch 21/30\n",
      "1491/1491 [==============================] - 9s 6ms/step - loss: 0.0764 - val_loss: 0.0580\n",
      "Epoch 22/30\n",
      "1491/1491 [==============================] - 9s 6ms/step - loss: 0.0802 - val_loss: 0.0580\n",
      "Epoch 23/30\n",
      "1491/1491 [==============================] - 8s 5ms/step - loss: 0.0707 - val_loss: 0.0580\n",
      "Epoch 24/30\n",
      "1491/1491 [==============================] - 6s 4ms/step - loss: 0.0721 - val_loss: 0.0580\n",
      "Epoch 25/30\n",
      "1491/1491 [==============================] - 7s 4ms/step - loss: 0.0699 - val_loss: 0.0580\n",
      "Epoch 26/30\n",
      "1491/1491 [==============================] - 7s 5ms/step - loss: 0.0649 - val_loss: 0.0580\n",
      "Epoch 27/30\n",
      "1491/1491 [==============================] - 6s 4ms/step - loss: 0.0641 - val_loss: 0.0580\n",
      "Epoch 28/30\n",
      "1491/1491 [==============================] - 7s 4ms/step - loss: 0.0641 - val_loss: 0.0580\n",
      "Epoch 29/30\n",
      "1491/1491 [==============================] - 6s 4ms/step - loss: 0.0674 - val_loss: 0.0580\n",
      "Epoch 30/30\n",
      "1491/1491 [==============================] - 6s 4ms/step - loss: 0.0640 - val_loss: 0.0580\n"
     ]
    }
   ],
   "source": [
    "np.random.seed(SEED)\n",
    "model = nvidia_model_tylerlum_relu()\n",
    "optimizer = Adam(lr=1e-4)\n",
    "model.compile(loss='mse', optimizer=optimizer)\n",
    "history = model.fit(X_train, Y_train, epochs=30, validation_data=(X_valid, Y_valid), batch_size=100, verbose=1, shuffle=1)"
   ]
  },
  {
   "cell_type": "code",
   "execution_count": 31,
   "metadata": {
    "colab": {
     "base_uri": "https://localhost:8080/",
     "height": 312
    },
    "colab_type": "code",
    "id": "hWL9dmHa3gVl",
    "outputId": "ac7f1c8b-c84d-4ede-b599-9af9791d6250"
   },
   "outputs": [
    {
     "data": {
      "text/plain": [
       "Text(0.5, 0, 'Epoch')"
      ]
     },
     "execution_count": 31,
     "metadata": {},
     "output_type": "execute_result"
    },
    {
     "data": {
      "image/png": "[encoded data removed]",
      "text/plain": [
       "<Figure size 432x288 with 1 Axes>"
      ]
     },
     "metadata": {
      "needs_background": "light"
     },
     "output_type": "display_data"
    }
   ],
   "source": [
    "plt.plot(history.history['loss'][1:])\n",
    "plt.plot(history.history['val_loss'][1:])\n",
    "plt.legend(['training', 'validation'])\n",
    "plt.title('Loss')\n",
    "plt.xlabel('Epoch')"
   ]
  },
  {
   "cell_type": "code",
   "execution_count": 32,
   "metadata": {},
   "outputs": [
    {
     "name": "stdout",
     "output_type": "stream",
     "text": [
      "Found path: /home/milhouse/projects/car-behavioral-cloning//beta_simulator_linux/beta_simulator.x86_64\n",
      "Mono path[0] = '/home/milhouse/projects/car-behavioral-cloning//beta_simulator_linux/beta_simulator_Data/Managed'\n",
      "Mono path[1] = '/home/milhouse/projects/car-behavioral-cloning//beta_simulator_linux/beta_simulator_Data/Mono'\n",
      "Mono config path = '/home/milhouse/projects/car-behavioral-cloning//beta_simulator_linux/beta_simulator_Data/Mono/etc'\n",
      "displaymanager : xrandr version warning. 1.5\n",
      "client has 4 screens\n",
      "displaymanager screen (0)(eDP1): 1366 x 768\n",
      "Using libudev for joystick management\n",
      "\n",
      "\n",
      "Importing game controller configs\n",
      "Using TensorFlow backend.\n",
      "OMP: Info #212: KMP_AFFINITY: decoding x2APIC ids.\n",
      "OMP: Info #210: KMP_AFFINITY: Affinity capable, using global cpuid leaf 11 info\n",
      "OMP: Info #154: KMP_AFFINITY: Initial OS proc set respected: 0-3\n",
      "OMP: Info #156: KMP_AFFINITY: 4 available OS procs\n",
      "OMP: Info #157: KMP_AFFINITY: Uniform topology\n",
      "OMP: Info #179: KMP_AFFINITY: 1 packages x 2 cores/pkg x 2 threads/core (2 total cores)\n",
      "OMP: Info #214: KMP_AFFINITY: OS proc to physical thread map:\n",
      "OMP: Info #171: KMP_AFFINITY: OS proc 0 maps to package 0 core 0 thread 0 \n",
      "OMP: Info #171: KMP_AFFINITY: OS proc 2 maps to package 0 core 0 thread 1 \n",
      "OMP: Info #171: KMP_AFFINITY: OS proc 1 maps to package 0 core 1 thread 0 \n",
      "OMP: Info #171: KMP_AFFINITY: OS proc 3 maps to package 0 core 1 thread 1 \n",
      "OMP: Info #250: KMP_AFFINITY: pid 15677 tid 15677 thread 0 bound to OS proc set 0\n",
      "WARNING:tensorflow:From /home/milhouse/miniconda3/envs/car-behavioral-cloning-keras2/lib/python3.6/site-packages/tensorflow/python/framework/op_def_library.py:263: colocate_with (from tensorflow.python.framework.ops) is deprecated and will be removed in a future version.\n",
      "Instructions for updating:\n",
      "Colocations handled automatically by placer.\n",
      "WARNING:tensorflow:From /home/milhouse/miniconda3/envs/car-behavioral-cloning-keras2/lib/python3.6/site-packages/keras/backend/tensorflow_backend.py:3445: calling dropout (from tensorflow.python.ops.nn_ops) with keep_prob is deprecated and will be removed in a future version.\n",
      "Instructions for updating:\n",
      "Please use `rate` instead of `keep_prob`. Rate should be set to `rate = 1 - keep_prob`.\n",
      "2019-05-22 21:44:19.284214: I tensorflow/core/platform/cpu_feature_guard.cc:141] Your CPU supports instructions that this TensorFlow binary was not compiled to use: SSE4.1 SSE4.2 AVX AVX2 FMA\n",
      "2019-05-22 21:44:19.290594: I tensorflow/core/platform/profile_utils/cpu_utils.cc:94] CPU Frequency: 2394390000 Hz\n",
      "2019-05-22 21:44:19.290761: I tensorflow/compiler/xla/service/service.cc:150] XLA service 0x559b48f8b220 executing computations on platform Host. Devices:\n",
      "2019-05-22 21:44:19.290778: I tensorflow/compiler/xla/service/service.cc:158]   StreamExecutor device (0): <undefined>, <undefined>\n",
      "2019-05-22 21:44:19.290911: I tensorflow/core/common_runtime/process_util.cc:71] Creating new thread pool with default inter op setting: 2. Tune using inter_op_parallelism_threads for best performance.\n",
      "WARNING:tensorflow:From /home/milhouse/miniconda3/envs/car-behavioral-cloning-keras2/lib/python3.6/site-packages/tensorflow/python/ops/math_ops.py:3066: to_int32 (from tensorflow.python.ops.math_ops) is deprecated and will be removed in a future version.\n",
      "Instructions for updating:\n",
      "Use tf.cast instead.\n",
      "Creating image folder at /home/milhouse/projects/car-behavioral-cloning//models/images_model_meetup\n",
      "RECORDING THIS RUN ...\n",
      "(15677) wsgi starting up on http://0.0.0.0:4567\n",
      "(15677) accepted ('127.0.0.1', 40146)\n",
      "connect  5bbb4193f0934177aa85ae452cd9482c\n",
      "OMP: Info #250: KMP_AFFINITY: pid 15677 tid 15733 thread 1 bound to OS proc set 1\n",
      "OMP: Info #250: KMP_AFFINITY: pid 15677 tid 15800 thread 2 bound to OS proc set 2\n",
      "OMP: Info #250: KMP_AFFINITY: pid 15677 tid 15801 thread 3 bound to OS proc set 3\n",
      "OMP: Info #250: KMP_AFFINITY: pid 15677 tid 15802 thread 4 bound to OS proc set 0\n",
      "OMP: Info #250: KMP_AFFINITY: pid 15677 tid 15734 thread 5 bound to OS proc set 1\n",
      "OMP: Info #250: KMP_AFFINITY: pid 15677 tid 15804 thread 6 bound to OS proc set 2\n",
      "OMP: Info #250: KMP_AFFINITY: pid 15677 tid 15805 thread 7 bound to OS proc set 3\n",
      "OMP: Info #250: KMP_AFFINITY: pid 15677 tid 15806 thread 8 bound to OS proc set 0\n",
      "Avg speed: 7.950091999999999, score: 795.0091999999999\n",
      "Avg speed: 8.765519000000001, score: 1753.1038000000003\n",
      "Avg speed: 9.026502333333339, score: 2707.9507000000017\n",
      "Avg speed: 9.16020350000001, score: 3664.081400000004\n",
      "Avg speed: 9.244524400000019, score: 4622.262200000009\n",
      "Avg speed: 9.30037066666668, score: 5580.222400000008\n",
      "Avg speed: 9.339610571428578, score: 6537.727400000004\n",
      "Avg speed: 9.369017875000011, score: 7495.21430000001\n",
      "Avg speed: 9.391934777777786, score: 8452.741300000007\n",
      "Avg speed: 9.408894600000009, score: 9408.894600000009\n",
      "Avg speed: 9.423499000000001, score: 10365.8489\n",
      "Avg speed: 9.43235325, score: 11318.823900000001\n",
      "Avg speed: 9.143652999999997, score: 11886.748899999997\n",
      "^C\n",
      "127.0.0.1 - - [22/May/2019 21:45:43] \"GET /socket.io/?EIO=4&transport=websocket HTTP/1.1\" 200 0 72.851361\n"
     ]
    }
   ],
   "source": [
    "model.save('{}/models/model_meetup.h5'.format(PROJECT_PATH))\n",
    "!/home/milhouse/miniconda3/envs/car-behavioral-cloning-keras2/bin/python $PROJECT_PATH/drive_100x160.py $PROJECT_PATH/models/model_meetup.h5 $PROJECT_PATH/models/images_model_meetup 10 & $PROJECT_PATH/beta_simulator_linux/beta_simulator.x86_64"
   ]
  },
  {
   "cell_type": "code",
   "execution_count": 33,
   "metadata": {},
   "outputs": [],
   "source": [
    "!convert $PROJECT_PATH/models/images_model_meetup/*5.jpg $PROJECT_PATH/models/images_model_tylerlum_adapted.gif"
   ]
  },
  {
   "cell_type": "markdown",
   "metadata": {},
   "source": [
    "<img src=\"../models/images_model_tylerlum_adapted.gif\" width=\"800\">"
   ]
  },
  {
   "cell_type": "markdown",
   "metadata": {},
   "source": [
    "![better](https://media.giphy.com/media/xUNd9G6KgAoXeWcMJq/giphy.gif)"
   ]
  },
  {
   "cell_type": "markdown",
   "metadata": {},
   "source": [
    "## First: overfit. After: regularize and generalize"
   ]
  },
  {
   "cell_type": "code",
   "execution_count": 34,
   "metadata": {
    "colab": {
     "base_uri": "https://localhost:8080/",
     "height": 312
    },
    "colab_type": "code",
    "id": "K7Huc8xiK8AE",
    "outputId": "9e87dc3d-ce26-451f-95db-503ed2c44afd"
   },
   "outputs": [],
   "source": [
    "def nvidia_model_tylerlum_overfit():\n",
    "  model = Sequential()\n",
    "  model.add(Convolution2D(24, (5, 5), strides=(2, 2), input_shape=IMG_SIZE, activation='relu'))\n",
    "  #model.add(Convolution2D(24, 5, 5, subsample=(2, 2), input_shape=(66, 200, 3), activation='elu'))\n",
    "  model.add(Convolution2D(36, (5, 5), strides=(2, 2), activation='relu'))\n",
    "  model.add(Convolution2D(48, (5, 5), strides=(2, 2), activation='relu'))\n",
    "  model.add(Convolution2D(64, (3, 3), activation='relu'))\n",
    "  model.add(Convolution2D(64, (3, 3), activation='relu'))\n",
    "  #model.add(Dropout(0.5))\n",
    "  \n",
    "  model.add(Flatten())\n",
    "  \n",
    "  model.add(Dense(100, activation='relu'))\n",
    "  #model.add(Dropout(0.5))\n",
    "  \n",
    "  model.add(Dense(50, activation='relu'))\n",
    "  #model.add(Dropout(0.5))\n",
    "  \n",
    "  model.add(Dense(10, activation='relu'))\n",
    "  #model.add(Dropout(0.5))\n",
    "  \n",
    "  model.add(Dense(1))\n",
    "  \n",
    "  model.compile(loss='mse', optimizer='adam')\n",
    "  return model"
   ]
  },
  {
   "cell_type": "code",
   "execution_count": 37,
   "metadata": {},
   "outputs": [
    {
     "name": "stdout",
     "output_type": "stream",
     "text": [
      "Train on 1491 samples, validate on 373 samples\n",
      "Epoch 1/30\n",
      "1491/1491 [==============================] - 9s 6ms/step - loss: 3.5835 - val_loss: 0.4244\n",
      "Epoch 2/30\n",
      "1491/1491 [==============================] - 7s 5ms/step - loss: 0.3074 - val_loss: 0.1895\n",
      "Epoch 3/30\n",
      "1491/1491 [==============================] - 8s 5ms/step - loss: 0.1522 - val_loss: 0.1501\n",
      "Epoch 4/30\n",
      "1491/1491 [==============================] - 7s 5ms/step - loss: 0.1176 - val_loss: 0.1212\n",
      "Epoch 5/30\n",
      "1491/1491 [==============================] - 7s 5ms/step - loss: 0.1010 - val_loss: 0.1079\n",
      "Epoch 6/30\n",
      "1491/1491 [==============================] - 6s 4ms/step - loss: 0.0855 - val_loss: 0.1079\n",
      "Epoch 7/30\n",
      "1491/1491 [==============================] - 6s 4ms/step - loss: 0.0779 - val_loss: 0.0990\n",
      "Epoch 8/30\n",
      "1491/1491 [==============================] - 6s 4ms/step - loss: 0.0709 - val_loss: 0.0981\n",
      "Epoch 9/30\n",
      "1491/1491 [==============================] - 8s 5ms/step - loss: 0.0677 - val_loss: 0.0921\n",
      "Epoch 10/30\n",
      "1491/1491 [==============================] - 7s 5ms/step - loss: 0.0608 - val_loss: 0.0864\n",
      "Epoch 11/30\n",
      "1491/1491 [==============================] - 7s 5ms/step - loss: 0.0579 - val_loss: 0.0833\n",
      "Epoch 12/30\n",
      "1491/1491 [==============================] - 8s 6ms/step - loss: 0.0561 - val_loss: 0.0838\n",
      "Epoch 13/30\n",
      "1491/1491 [==============================] - 6s 4ms/step - loss: 0.0538 - val_loss: 0.0795\n",
      "Epoch 14/30\n",
      "1491/1491 [==============================] - 6s 4ms/step - loss: 0.0543 - val_loss: 0.0826\n",
      "Epoch 15/30\n",
      "1491/1491 [==============================] - 6s 4ms/step - loss: 0.0475 - val_loss: 0.0741\n",
      "Epoch 16/30\n",
      "1491/1491 [==============================] - 7s 4ms/step - loss: 0.0438 - val_loss: 0.0780\n",
      "Epoch 17/30\n",
      "1491/1491 [==============================] - 8s 5ms/step - loss: 0.0419 - val_loss: 0.0704\n",
      "Epoch 18/30\n",
      "1491/1491 [==============================] - 9s 6ms/step - loss: 0.0418 - val_loss: 0.0695\n",
      "Epoch 19/30\n",
      "1491/1491 [==============================] - 8s 6ms/step - loss: 0.0381 - val_loss: 0.0786\n",
      "Epoch 20/30\n",
      "1491/1491 [==============================] - 8s 5ms/step - loss: 0.0370 - val_loss: 0.0671\n",
      "Epoch 21/30\n",
      "1491/1491 [==============================] - 8s 6ms/step - loss: 0.0333 - val_loss: 0.0663\n",
      "Epoch 22/30\n",
      "1491/1491 [==============================] - 8s 5ms/step - loss: 0.0315 - val_loss: 0.0646\n",
      "Epoch 23/30\n",
      "1491/1491 [==============================] - 6s 4ms/step - loss: 0.0294 - val_loss: 0.0638\n",
      "Epoch 24/30\n",
      "1491/1491 [==============================] - 7s 5ms/step - loss: 0.0288 - val_loss: 0.0639\n",
      "Epoch 25/30\n",
      "1491/1491 [==============================] - 7s 5ms/step - loss: 0.0268 - val_loss: 0.0632\n",
      "Epoch 26/30\n",
      "1491/1491 [==============================] - 9s 6ms/step - loss: 0.0263 - val_loss: 0.0654\n",
      "Epoch 27/30\n",
      "1491/1491 [==============================] - 10s 6ms/step - loss: 0.0255 - val_loss: 0.0615\n",
      "Epoch 28/30\n",
      "1491/1491 [==============================] - 9s 6ms/step - loss: 0.0245 - val_loss: 0.0645\n",
      "Epoch 29/30\n",
      "1491/1491 [==============================] - 9s 6ms/step - loss: 0.0232 - val_loss: 0.0627\n",
      "Epoch 30/30\n",
      "1491/1491 [==============================] - 9s 6ms/step - loss: 0.0213 - val_loss: 0.0607\n"
     ]
    }
   ],
   "source": [
    "np.random.seed(SEED)\n",
    "model = nvidia_model_tylerlum_overfit()\n",
    "optimizer = Adam(lr=1e-4)\n",
    "model.compile(loss='mse', optimizer=optimizer)\n",
    "history = model.fit(X_train, Y_train, epochs=30, validation_data=(X_valid, Y_valid), batch_size=100, verbose=1, shuffle=1)"
   ]
  },
  {
   "cell_type": "code",
   "execution_count": 38,
   "metadata": {},
   "outputs": [
    {
     "data": {
      "text/plain": [
       "Text(0.5, 0, 'Epoch')"
      ]
     },
     "execution_count": 38,
     "metadata": {},
     "output_type": "execute_result"
    },
    {
     "data": {
      "image/png": "[encoded data removed]",
      "text/plain": [
       "<Figure size 432x288 with 1 Axes>"
      ]
     },
     "metadata": {
      "needs_background": "light"
     },
     "output_type": "display_data"
    }
   ],
   "source": [
    "plt.plot(history.history['loss'][1:])\n",
    "plt.plot(history.history['val_loss'][1:])\n",
    "plt.legend(['training', 'validation'])\n",
    "plt.title('Loss')\n",
    "plt.xlabel('Epoch')"
   ]
  },
  {
   "cell_type": "markdown",
   "metadata": {},
   "source": [
    "## More overfit: one big Dense layer"
   ]
  },
  {
   "cell_type": "code",
   "execution_count": 39,
   "metadata": {
    "colab": {},
    "colab_type": "code",
    "id": "qy6s1IoFadqe"
   },
   "outputs": [],
   "source": [
    "def nvidia_model_rafa():\n",
    "############################################################\n",
    "# Define model\n",
    "############################################################\n",
    "  model = Sequential()\n",
    "  model.add(\n",
    "      Convolution2D(filters=24, kernel_size=(5,5), padding='valid', strides=(2, 2),\n",
    "                    input_shape=IMG_SIZE, activation='relu'))\n",
    "  \n",
    "  model.add(Convolution2D(filters=36, kernel_size=(5,5), padding='valid', strides=(2, 2), activation='relu'))\n",
    " \n",
    "  model.add(Convolution2D(filters=48, kernel_size=(5,5), padding='valid', strides=(2, 2), activation='relu'))\n",
    "  model.add(Convolution2D(filters=64, kernel_size=(3,3), padding='valid', activation='relu'))\n",
    "  model.add(Convolution2D(filters=64, kernel_size=(3,3), padding='valid', activation='relu'))\n",
    "  model.add(Flatten())\n",
    "  model.add(Dense(1164, activation='relu'))\n",
    "  model.add(Dense(100, activation='relu'))\n",
    "  model.add(Dense(50, activation='relu'))\n",
    "  model.add(Dense(10, activation='relu'))\n",
    "  model.add(Dense(1))\n",
    "\n",
    "  # keras model compile, choose optimizer and loss func\n",
    "  #optimizer='adam'\n",
    "  #optimizer = Adam(lr=1e-3)\n",
    "  optimizer = Adam(lr=1e-4)\n",
    "  model.compile(optimizer=optimizer, loss='mse')\n",
    "  return model"
   ]
  },
  {
   "cell_type": "code",
   "execution_count": 45,
   "metadata": {},
   "outputs": [],
   "source": [
    "K.clear_session()\n",
    "mycallback = keras.callbacks.TensorBoard(log_dir='./logs/1', histogram_freq=0, batch_size=100, write_graph=True, write_grads=False, write_images=False, embeddings_freq=0, embeddings_layer_names=None, embeddings_metadata=None, embeddings_data=None, update_freq='epoch')"
   ]
  },
  {
   "cell_type": "code",
   "execution_count": 46,
   "metadata": {},
   "outputs": [
    {
     "name": "stdout",
     "output_type": "stream",
     "text": [
      "Train on 1491 samples, validate on 373 samples\n",
      "Epoch 1/30\n",
      "1491/1491 [==============================] - 8s 6ms/step - loss: 2.9582 - val_loss: 0.0579\n",
      "Epoch 2/30\n",
      "1491/1491 [==============================] - 7s 5ms/step - loss: 0.0595 - val_loss: 0.0579\n",
      "Epoch 3/30\n",
      "1491/1491 [==============================] - 7s 5ms/step - loss: 0.0595 - val_loss: 0.0579\n",
      "Epoch 4/30\n",
      "1491/1491 [==============================] - 7s 5ms/step - loss: 0.0595 - val_loss: 0.0579\n",
      "Epoch 5/30\n",
      "1491/1491 [==============================] - 7s 5ms/step - loss: 0.0595 - val_loss: 0.0579\n",
      "Epoch 6/30\n",
      "1491/1491 [==============================] - 7s 5ms/step - loss: 0.0595 - val_loss: 0.0579\n",
      "Epoch 7/30\n",
      "1491/1491 [==============================] - 7s 5ms/step - loss: 0.0595 - val_loss: 0.0579\n",
      "Epoch 8/30\n",
      "1491/1491 [==============================] - 7s 5ms/step - loss: 0.0595 - val_loss: 0.0579\n",
      "Epoch 9/30\n",
      "1491/1491 [==============================] - 7s 5ms/step - loss: 0.0595 - val_loss: 0.0579\n",
      "Epoch 10/30\n",
      "1491/1491 [==============================] - 7s 5ms/step - loss: 0.0595 - val_loss: 0.0579\n",
      "Epoch 11/30\n",
      "1491/1491 [==============================] - 7s 5ms/step - loss: 0.0595 - val_loss: 0.0579\n",
      "Epoch 12/30\n",
      "1491/1491 [==============================] - 7s 5ms/step - loss: 0.0595 - val_loss: 0.0579\n",
      "Epoch 13/30\n",
      "1491/1491 [==============================] - 7s 5ms/step - loss: 0.0595 - val_loss: 0.0579\n",
      "Epoch 14/30\n",
      "1491/1491 [==============================] - 7s 5ms/step - loss: 0.0595 - val_loss: 0.0579\n",
      "Epoch 15/30\n",
      "1491/1491 [==============================] - 7s 5ms/step - loss: 0.0595 - val_loss: 0.0579\n",
      "Epoch 16/30\n",
      "1491/1491 [==============================] - 7s 5ms/step - loss: 0.0595 - val_loss: 0.0579\n",
      "Epoch 17/30\n",
      "1491/1491 [==============================] - 7s 5ms/step - loss: 0.0595 - val_loss: 0.0579\n",
      "Epoch 18/30\n",
      "1491/1491 [==============================] - 7s 5ms/step - loss: 0.0595 - val_loss: 0.0579\n",
      "Epoch 19/30\n",
      "1491/1491 [==============================] - 7s 5ms/step - loss: 0.0595 - val_loss: 0.0579\n",
      "Epoch 20/30\n",
      "1491/1491 [==============================] - 9s 6ms/step - loss: 0.0595 - val_loss: 0.0579\n",
      "Epoch 21/30\n",
      "1491/1491 [==============================] - 8s 5ms/step - loss: 0.0595 - val_loss: 0.0579\n",
      "Epoch 22/30\n",
      "1491/1491 [==============================] - 7s 5ms/step - loss: 0.0595 - val_loss: 0.0579\n",
      "Epoch 23/30\n",
      "1491/1491 [==============================] - 7s 5ms/step - loss: 0.0595 - val_loss: 0.0579\n",
      "Epoch 24/30\n",
      "1491/1491 [==============================] - 7s 5ms/step - loss: 0.0595 - val_loss: 0.0579\n",
      "Epoch 25/30\n",
      "1491/1491 [==============================] - 7s 5ms/step - loss: 0.0595 - val_loss: 0.0579\n",
      "Epoch 26/30\n",
      "1491/1491 [==============================] - 8s 5ms/step - loss: 0.0595 - val_loss: 0.0579\n",
      "Epoch 27/30\n",
      "1491/1491 [==============================] - 7s 5ms/step - loss: 0.0595 - val_loss: 0.0579\n",
      "Epoch 28/30\n",
      "1491/1491 [==============================] - 7s 5ms/step - loss: 0.0595 - val_loss: 0.0579\n",
      "Epoch 29/30\n",
      "1491/1491 [==============================] - 7s 5ms/step - loss: 0.0595 - val_loss: 0.0579\n",
      "Epoch 30/30\n",
      "1491/1491 [==============================] - 8s 5ms/step - loss: 0.0595 - val_loss: 0.0579\n"
     ]
    }
   ],
   "source": [
    "np.random.seed(SEED)\n",
    "model = nvidia_model_rafa()\n",
    "optimizer = Adam(lr=1e-4)\n",
    "model.compile(loss='mse', optimizer=optimizer)\n",
    "history = model.fit(X_train, Y_train, epochs=30, validation_data=(X_valid, Y_valid), batch_size=100, verbose=1, shuffle=1, callbacks=[mycallback])"
   ]
  },
  {
   "cell_type": "code",
   "execution_count": 47,
   "metadata": {},
   "outputs": [
    {
     "data": {
      "text/plain": [
       "Text(0.5, 0, 'Epoch')"
      ]
     },
     "execution_count": 47,
     "metadata": {},
     "output_type": "execute_result"
    },
    {
     "data": {
      "image/png": "[encoded data removed]",
      "text/plain": [
       "<Figure size 432x288 with 1 Axes>"
      ]
     },
     "metadata": {
      "needs_background": "light"
     },
     "output_type": "display_data"
    }
   ],
   "source": [
    "plt.plot(history.history['loss'][1:])\n",
    "plt.plot(history.history['val_loss'][1:])\n",
    "plt.legend(['training', 'validation'])\n",
    "plt.title('Loss')\n",
    "plt.xlabel('Epoch')"
   ]
  },
  {
   "cell_type": "code",
   "execution_count": 48,
   "metadata": {},
   "outputs": [
    {
     "name": "stdout",
     "output_type": "stream",
     "text": [
      "Train on 1491 samples, validate on 373 samples\n",
      "Epoch 1/2\n",
      "1491/1491 [==============================] - 9s 6ms/step - loss: 12145.3280 - val_loss: 0.0579\n",
      "Epoch 2/2\n",
      "1491/1491 [==============================] - 7s 5ms/step - loss: 27593.7421 - val_loss: 0.0579\n"
     ]
    }
   ],
   "source": [
    "np.random.seed(SEED)\n",
    "model = nvidia_model_rafa()\n",
    "optimizer = Adam(lr=1e-3)\n",
    "model.compile(loss='mse', optimizer=optimizer)\n",
    "history = model.fit(X_train, Y_train, epochs=2, validation_data=(X_valid, Y_valid), batch_size=128, verbose=1, shuffle=1)"
   ]
  },
  {
   "cell_type": "code",
   "execution_count": 60,
   "metadata": {},
   "outputs": [
    {
     "name": "stdout",
     "output_type": "stream",
     "text": [
      "Train on 1491 samples, validate on 373 samples\n",
      "Epoch 1/30\n",
      "1491/1491 [==============================] - 12s 8ms/step - loss: 117.8421 - val_loss: 0.0541\n",
      "Epoch 2/30\n",
      "1491/1491 [==============================] - 9s 6ms/step - loss: 0.0636 - val_loss: 0.0330\n",
      "Epoch 3/30\n",
      "1491/1491 [==============================] - 9s 6ms/step - loss: 0.0301 - val_loss: 0.0245\n",
      "Epoch 4/30\n",
      "1491/1491 [==============================] - 9s 6ms/step - loss: 0.0239 - val_loss: 0.0266\n",
      "Epoch 5/30\n",
      "1491/1491 [==============================] - 9s 6ms/step - loss: 0.0202 - val_loss: 0.0214\n",
      "Epoch 6/30\n",
      "1491/1491 [==============================] - 8s 6ms/step - loss: 0.0160 - val_loss: 0.0202\n",
      "Epoch 7/30\n",
      "1491/1491 [==============================] - 8s 6ms/step - loss: 0.0123 - val_loss: 0.0220\n",
      "Epoch 8/30\n",
      "1491/1491 [==============================] - 8s 6ms/step - loss: 0.0082 - val_loss: 0.0234\n",
      "Epoch 9/30\n",
      "1491/1491 [==============================] - 9s 6ms/step - loss: 0.0064 - val_loss: 0.0212\n",
      "Epoch 10/30\n",
      "1491/1491 [==============================] - 9s 6ms/step - loss: 0.0047 - val_loss: 0.0233\n",
      "Epoch 11/30\n",
      "1491/1491 [==============================] - 9s 6ms/step - loss: 0.0034 - val_loss: 0.0226\n",
      "Epoch 12/30\n",
      "1491/1491 [==============================] - 9s 6ms/step - loss: 0.0025 - val_loss: 0.0225\n",
      "Epoch 13/30\n",
      "1491/1491 [==============================] - 9s 6ms/step - loss: 0.0018 - val_loss: 0.0213\n",
      "Epoch 14/30\n",
      "1491/1491 [==============================] - 10s 6ms/step - loss: 0.0012 - val_loss: 0.0217\n",
      "Epoch 15/30\n",
      "1491/1491 [==============================] - 9s 6ms/step - loss: 7.0354e-04 - val_loss: 0.0205\n",
      "Epoch 16/30\n",
      "1491/1491 [==============================] - 7s 5ms/step - loss: 5.0203e-04 - val_loss: 0.0209\n",
      "Epoch 17/30\n",
      "1491/1491 [==============================] - 7s 5ms/step - loss: 3.7997e-04 - val_loss: 0.0210\n",
      "Epoch 18/30\n",
      "1491/1491 [==============================] - 7s 5ms/step - loss: 2.8021e-04 - val_loss: 0.0212\n",
      "Epoch 19/30\n",
      "1491/1491 [==============================] - 7s 5ms/step - loss: 2.3265e-04 - val_loss: 0.0209\n",
      "Epoch 20/30\n",
      "1491/1491 [==============================] - 7s 5ms/step - loss: 1.8854e-04 - val_loss: 0.0209\n",
      "Epoch 21/30\n",
      "1491/1491 [==============================] - 7s 5ms/step - loss: 1.4322e-04 - val_loss: 0.0212\n",
      "Epoch 22/30\n",
      "1491/1491 [==============================] - 7s 5ms/step - loss: 1.2118e-04 - val_loss: 0.0210\n",
      "Epoch 23/30\n",
      "1491/1491 [==============================] - 8s 5ms/step - loss: 1.0506e-04 - val_loss: 0.0210\n",
      "Epoch 24/30\n",
      "1491/1491 [==============================] - 9s 6ms/step - loss: 9.7219e-05 - val_loss: 0.0209\n",
      "Epoch 25/30\n",
      "1491/1491 [==============================] - 8s 5ms/step - loss: 8.4528e-05 - val_loss: 0.0209\n",
      "Epoch 26/30\n",
      "1491/1491 [==============================] - 8s 5ms/step - loss: 7.8534e-05 - val_loss: 0.0210\n",
      "Epoch 27/30\n",
      "1491/1491 [==============================] - 7s 5ms/step - loss: 7.6237e-05 - val_loss: 0.0210\n",
      "Epoch 28/30\n",
      "1491/1491 [==============================] - 8s 5ms/step - loss: 6.7152e-05 - val_loss: 0.0208\n",
      "Epoch 29/30\n",
      "1491/1491 [==============================] - 8s 6ms/step - loss: 5.6896e-05 - val_loss: 0.0211\n",
      "Epoch 30/30\n",
      "1491/1491 [==============================] - 7s 5ms/step - loss: 5.3012e-05 - val_loss: 0.0208\n"
     ]
    }
   ],
   "source": [
    "K.clear_session()\n",
    "mycallback = keras.callbacks.TensorBoard(log_dir='./logs/2')\n",
    "model = nvidia_model_rafa()\n",
    "optimizer = Adam(lr=1e-3, clipnorm=1.)\n",
    "model.compile(loss='mse', optimizer=optimizer)\n",
    "history = model.fit(X_train, Y_train, epochs=30, validation_data=(X_valid, Y_valid), batch_size=128, verbose=1, shuffle=1, callbacks=[mycallback])"
   ]
  },
  {
   "cell_type": "code",
   "execution_count": 61,
   "metadata": {},
   "outputs": [
    {
     "data": {
      "text/plain": [
       "Text(0.5, 0, 'Epoch')"
      ]
     },
     "execution_count": 61,
     "metadata": {},
     "output_type": "execute_result"
    },
    {
     "data": {
      "image/png": "[encoded data removed]",
      "text/plain": [
       "<Figure size 432x288 with 1 Axes>"
      ]
     },
     "metadata": {
      "needs_background": "light"
     },
     "output_type": "display_data"
    }
   ],
   "source": [
    "plt.plot(history.history['loss'][1:])\n",
    "plt.plot(history.history['val_loss'][1:])\n",
    "plt.legend(['training', 'validation'])\n",
    "plt.title('Loss')\n",
    "plt.xlabel('Epoch')"
   ]
  },
  {
   "cell_type": "code",
   "execution_count": 62,
   "metadata": {},
   "outputs": [
    {
     "name": "stdout",
     "output_type": "stream",
     "text": [
      "Found path: /home/milhouse/projects/car-behavioral-cloning//beta_simulator_linux/beta_simulator.x86_64\n",
      "Mono path[0] = '/home/milhouse/projects/car-behavioral-cloning//beta_simulator_linux/beta_simulator_Data/Managed'\n",
      "Mono path[1] = '/home/milhouse/projects/car-behavioral-cloning//beta_simulator_linux/beta_simulator_Data/Mono'\n",
      "Mono config path = '/home/milhouse/projects/car-behavioral-cloning//beta_simulator_linux/beta_simulator_Data/Mono/etc'\n",
      "displaymanager : xrandr version warning. 1.5\n",
      "client has 4 screens\n",
      "displaymanager screen (0)(eDP1): 1366 x 768\n",
      "Using libudev for joystick management\n",
      "\n",
      "\n",
      "Importing game controller configs\n",
      "Using TensorFlow backend.\n",
      "OMP: Info #212: KMP_AFFINITY: decoding x2APIC ids.\n",
      "OMP: Info #210: KMP_AFFINITY: Affinity capable, using global cpuid leaf 11 info\n",
      "OMP: Info #154: KMP_AFFINITY: Initial OS proc set respected: 0-3\n",
      "OMP: Info #156: KMP_AFFINITY: 4 available OS procs\n",
      "OMP: Info #157: KMP_AFFINITY: Uniform topology\n",
      "OMP: Info #179: KMP_AFFINITY: 1 packages x 2 cores/pkg x 2 threads/core (2 total cores)\n",
      "OMP: Info #214: KMP_AFFINITY: OS proc to physical thread map:\n",
      "OMP: Info #171: KMP_AFFINITY: OS proc 0 maps to package 0 core 0 thread 0 \n",
      "OMP: Info #171: KMP_AFFINITY: OS proc 2 maps to package 0 core 0 thread 1 \n",
      "OMP: Info #171: KMP_AFFINITY: OS proc 1 maps to package 0 core 1 thread 0 \n",
      "OMP: Info #171: KMP_AFFINITY: OS proc 3 maps to package 0 core 1 thread 1 \n",
      "OMP: Info #250: KMP_AFFINITY: pid 20726 tid 20726 thread 0 bound to OS proc set 0\n",
      "WARNING:tensorflow:From /home/milhouse/miniconda3/envs/car-behavioral-cloning-keras2/lib/python3.6/site-packages/tensorflow/python/framework/op_def_library.py:263: colocate_with (from tensorflow.python.framework.ops) is deprecated and will be removed in a future version.\n",
      "Instructions for updating:\n",
      "Colocations handled automatically by placer.\n",
      "2019-05-22 23:31:22.708464: I tensorflow/core/platform/cpu_feature_guard.cc:141] Your CPU supports instructions that this TensorFlow binary was not compiled to use: SSE4.1 SSE4.2 AVX AVX2 FMA\n",
      "2019-05-22 23:31:22.713368: I tensorflow/core/platform/profile_utils/cpu_utils.cc:94] CPU Frequency: 2394390000 Hz\n",
      "2019-05-22 23:31:22.713552: I tensorflow/compiler/xla/service/service.cc:150] XLA service 0x556737967e90 executing computations on platform Host. Devices:\n",
      "2019-05-22 23:31:22.713568: I tensorflow/compiler/xla/service/service.cc:158]   StreamExecutor device (0): <undefined>, <undefined>\n",
      "2019-05-22 23:31:22.713824: I tensorflow/core/common_runtime/process_util.cc:71] Creating new thread pool with default inter op setting: 2. Tune using inter_op_parallelism_threads for best performance.\n",
      "WARNING:tensorflow:From /home/milhouse/miniconda3/envs/car-behavioral-cloning-keras2/lib/python3.6/site-packages/tensorflow/python/ops/math_ops.py:3066: to_int32 (from tensorflow.python.ops.math_ops) is deprecated and will be removed in a future version.\n",
      "Instructions for updating:\n",
      "Use tf.cast instead.\n",
      "Creating image folder at /home/milhouse/projects/car-behavioral-cloning//models/images_model_meetup\n",
      "RECORDING THIS RUN ...\n",
      "(20726) wsgi starting up on http://0.0.0.0:4567\n",
      "(20726) accepted ('127.0.0.1', 44978)\n",
      "connect  e65bc1f1575c403c905890e46301ce27\n",
      "OMP: Info #250: KMP_AFFINITY: pid 20726 tid 20746 thread 1 bound to OS proc set 1\n",
      "OMP: Info #250: KMP_AFFINITY: pid 20726 tid 20843 thread 2 bound to OS proc set 2\n",
      "OMP: Info #250: KMP_AFFINITY: pid 20726 tid 20844 thread 3 bound to OS proc set 3\n",
      "OMP: Info #250: KMP_AFFINITY: pid 20726 tid 20845 thread 4 bound to OS proc set 0\n",
      "OMP: Info #250: KMP_AFFINITY: pid 20726 tid 20747 thread 5 bound to OS proc set 1\n",
      "OMP: Info #250: KMP_AFFINITY: pid 20726 tid 20846 thread 6 bound to OS proc set 2\n",
      "OMP: Info #250: KMP_AFFINITY: pid 20726 tid 20848 thread 8 bound to OS proc set 0\n",
      "OMP: Info #250: KMP_AFFINITY: pid 20726 tid 20847 thread 7 bound to OS proc set 3\n",
      "Avg speed: 7.609629999999999, score: 760.963\n",
      "Avg speed: 8.594890499999998, score: 1718.9780999999996\n",
      "Avg speed: 8.922538333333334, score: 2676.7615\n",
      "Avg speed: 9.086852000000007, score: 3634.7408000000028\n",
      "Avg speed: 9.184971399999991, score: 4592.485699999996\n",
      "Avg speed: 9.250964666666684, score: 5550.57880000001\n",
      "Avg speed: 9.297741428571447, score: 6508.4190000000135\n",
      "Avg speed: 9.332175000000024, score: 7465.74000000002\n",
      "Avg speed: 9.358971444444466, score: 8423.074300000018\n",
      "Avg speed: 9.379401700000022, score: 9379.401700000022\n",
      "Avg speed: 9.394493545454562, score: 10333.942900000018\n",
      "Avg speed: 9.406891583333342, score: 11288.26990000001\n",
      "Avg speed: 9.415143307692329, score: 12239.686300000027\n",
      "Avg speed: 9.424609571428595, score: 13194.453400000033\n",
      "Avg speed: 9.434213400000026, score: 14151.320100000039\n",
      "Avg speed: 9.44289887500002, score: 15108.638200000032\n",
      "Avg speed: 9.450934352941191, score: 16066.588400000024\n",
      "Avg speed: 9.457381111111122, score: 17023.28600000002\n",
      "Avg speed: 9.463588578947368, score: 17980.8183\n",
      "Avg speed: 9.469084199999996, score: 18938.16839999999\n",
      "Avg speed: 9.474119761904742, score: 19895.651499999956\n",
      "Avg speed: 9.478485681818173, score: 20852.668499999978\n",
      "Avg speed: 9.482212913043469, score: 21809.08969999998\n",
      "Avg speed: 9.484667958333329, score: 22763.203099999988\n",
      "Avg speed: 9.488022039999997, score: 23720.055099999994\n",
      "^C\n",
      "127.0.0.1 - - [22/May/2019 23:34:07] \"GET /socket.io/?EIO=4&transport=websocket HTTP/1.1\" 200 0 148.009965\n"
     ]
    }
   ],
   "source": [
    "model.save('{}/models/model_meetup.h5'.format(PROJECT_PATH))\n",
    "!/home/milhouse/miniconda3/envs/car-behavioral-cloning-keras2/bin/python $PROJECT_PATH/drive_100x160.py $PROJECT_PATH/models/model_meetup.h5 $PROJECT_PATH/models/images_model_meetup 10 & $PROJECT_PATH/beta_simulator_linux/beta_simulator.x86_64"
   ]
  },
  {
   "cell_type": "code",
   "execution_count": 63,
   "metadata": {},
   "outputs": [],
   "source": [
    "!convert $PROJECT_PATH/models/images_model_meetup/*5.jpg $PROJECT_PATH/models/images_model_rafa_clip1.gif"
   ]
  },
  {
   "cell_type": "markdown",
   "metadata": {},
   "source": [
    "<img src=\"../models/images_model_rafa_clip1.gif\" width=\"800\">"
   ]
  },
  {
   "cell_type": "markdown",
   "metadata": {},
   "source": [
    "## Finally"
   ]
  },
  {
   "cell_type": "code",
   "execution_count": 89,
   "metadata": {},
   "outputs": [],
   "source": [
    "from keras.layers import BatchNormalization\n",
    "def nvidia_model_batchnorm():\n",
    "############################################################\n",
    "# Define model\n",
    "############################################################\n",
    "  model = Sequential()\n",
    "  model.add(\n",
    "      Convolution2D(filters=24, kernel_size=(5,5), padding='valid', strides=(2, 2),\n",
    "                    input_shape=IMG_SIZE, activation='relu'))\n",
    "  model.add(BatchNormalization())\n",
    "  \n",
    "  model.add(Convolution2D(filters=36, kernel_size=(5,5), padding='valid', strides=(2, 2), activation='relu'))\n",
    "  model.add(BatchNormalization())\n",
    "  model.add(Convolution2D(filters=48, kernel_size=(5,5), padding='valid', strides=(2, 2), activation='relu'))\n",
    "  model.add(BatchNormalization())\n",
    "  model.add(Convolution2D(filters=64, kernel_size=(3,3), padding='valid', activation='relu'))\n",
    "  model.add(BatchNormalization())\n",
    "  model.add(Convolution2D(filters=64, kernel_size=(3,3), padding='valid', activation='relu'))\n",
    "  model.add(BatchNormalization())\n",
    "  model.add(Flatten())\n",
    "  model.add(BatchNormalization())\n",
    "  model.add(Dense(1164, activation='relu'))\n",
    "  model.add(BatchNormalization())\n",
    "  model.add(Dense(100, activation='relu'))\n",
    "  model.add(BatchNormalization())\n",
    "  model.add(Dense(50, activation='relu'))\n",
    "  model.add(BatchNormalization())\n",
    "  model.add(Dense(10, activation='relu'))\n",
    "  model.add(Dense(1))\n",
    "\n",
    "  # keras model compile, choose optimizer and loss func\n",
    "  #optimizer='adam'\n",
    "  #optimizer = Adam(lr=1e-3)\n",
    "  optimizer = Adam(lr=1e-4)\n",
    "  model.compile(optimizer=optimizer, loss='mse')\n",
    "  return model"
   ]
  },
  {
   "cell_type": "code",
   "execution_count": 90,
   "metadata": {},
   "outputs": [
    {
     "name": "stdout",
     "output_type": "stream",
     "text": [
      "Train on 1491 samples, validate on 373 samples\n",
      "Epoch 1/30\n",
      "1491/1491 [==============================] - 17s 11ms/step - loss: 0.5259 - val_loss: 1.5369\n",
      "Epoch 2/30\n",
      "1491/1491 [==============================] - 10s 7ms/step - loss: 0.1294 - val_loss: 0.3442\n",
      "Epoch 3/30\n",
      "1491/1491 [==============================] - 11s 7ms/step - loss: 0.0500 - val_loss: 0.2092\n",
      "Epoch 4/30\n",
      "1491/1491 [==============================] - 10s 7ms/step - loss: 0.0277 - val_loss: 0.1157\n",
      "Epoch 5/30\n",
      "1491/1491 [==============================] - 11s 7ms/step - loss: 0.0203 - val_loss: 0.1016\n",
      "Epoch 6/30\n",
      "1491/1491 [==============================] - 10s 7ms/step - loss: 0.0137 - val_loss: 0.0622\n",
      "Epoch 7/30\n",
      "1491/1491 [==============================] - 11s 7ms/step - loss: 0.0130 - val_loss: 0.0598\n",
      "Epoch 8/30\n",
      "1491/1491 [==============================] - 11s 7ms/step - loss: 0.0088 - val_loss: 0.0461\n",
      "Epoch 9/30\n",
      "1491/1491 [==============================] - 11s 7ms/step - loss: 0.0090 - val_loss: 0.0410\n",
      "Epoch 10/30\n",
      "1491/1491 [==============================] - 11s 7ms/step - loss: 0.0087 - val_loss: 0.0383\n",
      "Epoch 11/30\n",
      "1491/1491 [==============================] - 11s 7ms/step - loss: 0.0070 - val_loss: 0.0356\n",
      "Epoch 12/30\n",
      "1491/1491 [==============================] - 11s 7ms/step - loss: 0.0070 - val_loss: 0.0335\n",
      "Epoch 13/30\n",
      "1491/1491 [==============================] - 11s 7ms/step - loss: 0.0065 - val_loss: 0.0312\n",
      "Epoch 14/30\n",
      "1491/1491 [==============================] - 11s 8ms/step - loss: 0.0065 - val_loss: 0.0308\n",
      "Epoch 15/30\n",
      "1491/1491 [==============================] - 10s 7ms/step - loss: 0.0065 - val_loss: 0.0267\n",
      "Epoch 16/30\n",
      "1491/1491 [==============================] - 10s 7ms/step - loss: 0.0066 - val_loss: 0.0278\n",
      "Epoch 17/30\n",
      "1491/1491 [==============================] - 10s 7ms/step - loss: 0.0070 - val_loss: 0.0332\n",
      "Epoch 18/30\n",
      "1491/1491 [==============================] - 11s 7ms/step - loss: 0.0061 - val_loss: 0.0302\n",
      "Epoch 19/30\n",
      "1491/1491 [==============================] - 11s 7ms/step - loss: 0.0059 - val_loss: 0.0279\n",
      "Epoch 20/30\n",
      "1491/1491 [==============================] - 11s 7ms/step - loss: 0.0057 - val_loss: 0.0289\n",
      "Epoch 21/30\n",
      "1491/1491 [==============================] - 11s 7ms/step - loss: 0.0052 - val_loss: 0.0289\n",
      "Epoch 22/30\n",
      "1491/1491 [==============================] - 10s 7ms/step - loss: 0.0054 - val_loss: 0.0276\n",
      "Epoch 23/30\n",
      "1491/1491 [==============================] - 11s 7ms/step - loss: 0.0052 - val_loss: 0.0266\n",
      "Epoch 24/30\n",
      "1491/1491 [==============================] - 11s 7ms/step - loss: 0.0059 - val_loss: 0.0273\n",
      "Epoch 25/30\n",
      "1491/1491 [==============================] - 11s 7ms/step - loss: 0.0046 - val_loss: 0.0263\n",
      "Epoch 26/30\n",
      "1491/1491 [==============================] - 10s 7ms/step - loss: 0.0050 - val_loss: 0.0274\n",
      "Epoch 27/30\n",
      "1491/1491 [==============================] - 10s 7ms/step - loss: 0.0045 - val_loss: 0.0262\n",
      "Epoch 28/30\n",
      "1491/1491 [==============================] - 10s 7ms/step - loss: 0.0048 - val_loss: 0.0279\n",
      "Epoch 29/30\n",
      "1491/1491 [==============================] - 10s 7ms/step - loss: 0.0046 - val_loss: 0.0257\n",
      "Epoch 30/30\n",
      "1491/1491 [==============================] - 11s 7ms/step - loss: 0.0041 - val_loss: 0.0254\n"
     ]
    }
   ],
   "source": [
    "K.clear_session()\n",
    "mycallback = keras.callbacks.TensorBoard(log_dir='./logs/3')\n",
    "np.random.seed(SEED)\n",
    "model = nvidia_model_batchnorm()\n",
    "optimizer = Adam(lr=1e-3)\n",
    "model.compile(loss='mse', optimizer=optimizer)\n",
    "history = model.fit(X_train, Y_train, epochs=30, validation_data=(X_valid, Y_valid), batch_size=128, verbose=1, shuffle=1, callbacks=[mycallback])"
   ]
  },
  {
   "cell_type": "code",
   "execution_count": 93,
   "metadata": {},
   "outputs": [
    {
     "data": {
      "text/plain": [
       "Text(0.5, 0, 'Epoch')"
      ]
     },
     "execution_count": 93,
     "metadata": {},
     "output_type": "execute_result"
    },
    {
     "data": {
      "image/png": "[encoded data removed]",
      "text/plain": [
       "<Figure size 432x288 with 1 Axes>"
      ]
     },
     "metadata": {
      "needs_background": "light"
     },
     "output_type": "display_data"
    }
   ],
   "source": [
    "plt.plot(history.history['loss'][3:])\n",
    "plt.plot(history.history['val_loss'][3:])\n",
    "plt.legend(['training', 'validation'])\n",
    "plt.title('Loss')\n",
    "plt.xlabel('Epoch')"
   ]
  },
  {
   "cell_type": "code",
   "execution_count": 94,
   "metadata": {},
   "outputs": [
    {
     "name": "stdout",
     "output_type": "stream",
     "text": [
      "Using TensorFlow backend.\n",
      "Found path: /home/milhouse/projects/car-behavioral-cloning//beta_simulator_linux/beta_simulator.x86_64\n",
      "Mono path[0] = '/home/milhouse/projects/car-behavioral-cloning//beta_simulator_linux/beta_simulator_Data/Managed'\n",
      "Mono path[1] = '/home/milhouse/projects/car-behavioral-cloning//beta_simulator_linux/beta_simulator_Data/Mono'\n",
      "Mono config path = '/home/milhouse/projects/car-behavioral-cloning//beta_simulator_linux/beta_simulator_Data/Mono/etc'\n",
      "displaymanager : xrandr version warning. 1.5\n",
      "client has 4 screens\n",
      "displaymanager screen (0)(eDP1): 1366 x 768\n",
      "Using libudev for joystick management\n",
      "\n",
      "\n",
      "Importing game controller configs\n",
      "OMP: Info #212: KMP_AFFINITY: decoding x2APIC ids.\n",
      "OMP: Info #210: KMP_AFFINITY: Affinity capable, using global cpuid leaf 11 info\n",
      "OMP: Info #154: KMP_AFFINITY: Initial OS proc set respected: 0-3\n",
      "OMP: Info #156: KMP_AFFINITY: 4 available OS procs\n",
      "OMP: Info #157: KMP_AFFINITY: Uniform topology\n",
      "OMP: Info #179: KMP_AFFINITY: 1 packages x 2 cores/pkg x 2 threads/core (2 total cores)\n",
      "OMP: Info #214: KMP_AFFINITY: OS proc to physical thread map:\n",
      "OMP: Info #171: KMP_AFFINITY: OS proc 0 maps to package 0 core 0 thread 0 \n",
      "OMP: Info #171: KMP_AFFINITY: OS proc 2 maps to package 0 core 0 thread 1 \n",
      "OMP: Info #171: KMP_AFFINITY: OS proc 1 maps to package 0 core 1 thread 0 \n",
      "OMP: Info #171: KMP_AFFINITY: OS proc 3 maps to package 0 core 1 thread 1 \n",
      "OMP: Info #250: KMP_AFFINITY: pid 22806 tid 22806 thread 0 bound to OS proc set 0\n",
      "WARNING:tensorflow:From /home/milhouse/miniconda3/envs/car-behavioral-cloning-keras2/lib/python3.6/site-packages/tensorflow/python/framework/op_def_library.py:263: colocate_with (from tensorflow.python.framework.ops) is deprecated and will be removed in a future version.\n",
      "Instructions for updating:\n",
      "Colocations handled automatically by placer.\n",
      "2019-05-23 00:12:27.142473: I tensorflow/core/platform/cpu_feature_guard.cc:141] Your CPU supports instructions that this TensorFlow binary was not compiled to use: SSE4.1 SSE4.2 AVX AVX2 FMA\n",
      "2019-05-23 00:12:27.147507: I tensorflow/core/platform/profile_utils/cpu_utils.cc:94] CPU Frequency: 2394390000 Hz\n",
      "2019-05-23 00:12:27.147693: I tensorflow/compiler/xla/service/service.cc:150] XLA service 0x55d2edfd61d0 executing computations on platform Host. Devices:\n",
      "2019-05-23 00:12:27.147710: I tensorflow/compiler/xla/service/service.cc:158]   StreamExecutor device (0): <undefined>, <undefined>\n",
      "2019-05-23 00:12:27.147851: I tensorflow/core/common_runtime/process_util.cc:71] Creating new thread pool with default inter op setting: 2. Tune using inter_op_parallelism_threads for best performance.\n",
      "WARNING:tensorflow:From /home/milhouse/miniconda3/envs/car-behavioral-cloning-keras2/lib/python3.6/site-packages/tensorflow/python/ops/math_ops.py:3066: to_int32 (from tensorflow.python.ops.math_ops) is deprecated and will be removed in a future version.\n",
      "Instructions for updating:\n",
      "Use tf.cast instead.\n",
      "Creating image folder at /home/milhouse/projects/car-behavioral-cloning//models/images_model_meetup\n",
      "RECORDING THIS RUN ...\n",
      "(22806) wsgi starting up on http://0.0.0.0:4567\n",
      "(22806) accepted ('127.0.0.1', 38580)\n",
      "connect  f0029772f3a74f7eaed7928b90a38163\n",
      "OMP: Info #250: KMP_AFFINITY: pid 22806 tid 22828 thread 1 bound to OS proc set 1\n",
      "OMP: Info #250: KMP_AFFINITY: pid 22806 tid 22930 thread 4 bound to OS proc set 0\n",
      "OMP: Info #250: KMP_AFFINITY: pid 22806 tid 22929 thread 3 bound to OS proc set 3\n",
      "OMP: Info #250: KMP_AFFINITY: pid 22806 tid 22928 thread 2 bound to OS proc set 2\n",
      "OMP: Info #250: KMP_AFFINITY: pid 22806 tid 22827 thread 5 bound to OS proc set 1\n",
      "OMP: Info #250: KMP_AFFINITY: pid 22806 tid 22931 thread 6 bound to OS proc set 2\n",
      "OMP: Info #250: KMP_AFFINITY: pid 22806 tid 22933 thread 8 bound to OS proc set 0\n",
      "OMP: Info #250: KMP_AFFINITY: pid 22806 tid 22932 thread 7 bound to OS proc set 3\n",
      "Avg speed: 8.393281000000004, score: 839.3281000000004\n",
      "Avg speed: 8.985481, score: 1797.0962000000002\n",
      "Avg speed: 9.184050000000004, score: 2755.2150000000015\n",
      "Avg speed: 9.282871000000007, score: 3713.1484000000028\n",
      "Avg speed: 9.341536200000013, score: 4670.768100000007\n",
      "Avg speed: 9.380809833333362, score: 5628.485900000018\n",
      "Avg speed: 9.40852142857145, score: 6585.965000000016\n",
      "Avg speed: 9.429100500000022, score: 7543.280400000018\n",
      "Avg speed: 9.444723333333341, score: 8500.251000000007\n",
      "Avg speed: 9.456671799999999, score: 9456.671799999998\n",
      "Avg speed: 9.461404272727275, score: 10407.544700000002\n",
      "Avg speed: 9.459642916666668, score: 11351.571500000002\n",
      "Avg speed: 9.458877076923075, score: 12296.540199999998\n",
      "Avg speed: 9.46000771428571, score: 13244.010799999995\n",
      "Avg speed: 9.462869999999993, score: 14194.30499999999\n",
      "Avg speed: 9.462864187500001, score: 15140.5827\n",
      "Avg speed: 9.464479882352945, score: 16089.615800000007\n",
      "Avg speed: 9.468633222222225, score: 17043.539800000006\n",
      "Avg speed: 9.4731522631579, score: 17998.98930000001\n",
      "Avg speed: 9.477177600000008, score: 18954.355200000016\n",
      "Avg speed: 9.479630285714302, score: 19907.223600000034\n",
      "Avg speed: 9.483071000000013, score: 20862.75620000003\n",
      "Avg speed: 9.48401108695653, score: 21813.22550000002\n",
      "Avg speed: 9.47493675000001, score: 22739.848200000026\n",
      "Avg speed: 9.479276160000005, score: 23698.19040000001\n",
      "Avg speed: 9.482003500000005, score: 24653.20910000001\n",
      "^C\n",
      "127.0.0.1 - - [23/May/2019 00:15:15] \"GET /socket.io/?EIO=4&transport=websocket HTTP/1.1\" 200 0 155.008197\n"
     ]
    }
   ],
   "source": [
    "model.save('{}/models/model_meetup.h5'.format(PROJECT_PATH))\n",
    "!/home/milhouse/miniconda3/envs/car-behavioral-cloning-keras2/bin/python $PROJECT_PATH/drive_100x160.py $PROJECT_PATH/models/model_meetup.h5 $PROJECT_PATH/models/images_model_meetup 10 & $PROJECT_PATH/beta_simulator_linux/beta_simulator.x86_64"
   ]
  },
  {
   "cell_type": "code",
   "execution_count": 95,
   "metadata": {},
   "outputs": [],
   "source": [
    "!convert $PROJECT_PATH/models/images_model_meetup/*5.jpg $PROJECT_PATH/models/images_model_nvidia_batchnorm.gif"
   ]
  },
  {
   "cell_type": "markdown",
   "metadata": {},
   "source": [
    "<img src=\"../models/images_model_rafa_clip2.gif\" width=\"800\">"
   ]
  },
  {
   "cell_type": "code",
   "execution_count": null,
   "metadata": {},
   "outputs": [],
   "source": []
  }
 ],
 "metadata": {
  "accelerator": "GPU",
  "colab": {
   "collapsed_sections": [],
   "name": "Behavioral Cloning with Keras 2.ipynb",
   "provenance": [],
   "version": "0.3.2"
  },
  "kernelspec": {
   "display_name": "car-behavioral-cloning-keras2",
   "language": "python",
   "name": "car-behavioral-cloning-keras2"
  },
  "language_info": {
   "codemirror_mode": {
    "name": "ipython",
    "version": 3
   },
   "file_extension": ".py",
   "mimetype": "text/x-python",
   "name": "python",
   "nbconvert_exporter": "python",
   "pygments_lexer": "ipython3",
   "version": "3.6.8"
  }
 },
 "nbformat": 4,
 "nbformat_minor": 1
}
