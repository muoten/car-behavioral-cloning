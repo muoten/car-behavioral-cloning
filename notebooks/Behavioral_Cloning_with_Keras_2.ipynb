{
 "cells": [
  {
   "cell_type": "markdown",
   "metadata": {},
   "source": [
    "## Fix for Reproducibility"
   ]
  },
  {
   "cell_type": "code",
   "execution_count": 1,
   "metadata": {},
   "outputs": [],
   "source": [
    "# check\n",
    "#import os\n",
    "#if os.environ.get(\"PYTHONHASHSEED\") != \"0\":\n",
    "#  raise Exception(\"You must set PYTHONHASHSEED=0 when starting the Jupyter server to get reproducible results.\")"
   ]
  },
  {
   "cell_type": "code",
   "execution_count": 2,
   "metadata": {},
   "outputs": [
    {
     "name": "stderr",
     "output_type": "stream",
     "text": [
      "Using TensorFlow backend.\n"
     ]
    }
   ],
   "source": [
    "import numpy as np\n",
    "import tensorflow as tf\n",
    "import random as rn\n",
    "\n",
    "# The below is necessary in Python 3.2.3 onwards to\n",
    "# have reproducible behavior for certain hash-based operations.\n",
    "# See these references for further details:\n",
    "# https://docs.python.org/3.4/using/cmdline.html#envvar-PYTHONHASHSEED\n",
    "# https://github.com/fchollet/keras/issues/2280#issuecomment-306959926\n",
    "\n",
    "import os\n",
    "os.environ['PYTHONHASHSEED'] = '0'\n",
    "\n",
    "# The below is necessary for starting Numpy generated random numbers\n",
    "# in a well-defined initial state.\n",
    "SEED=42\n",
    "np.random.seed(SEED)\n",
    "\n",
    "# The below is necessary for starting core Python generated random numbers\n",
    "# in a well-defined state.\n",
    "\n",
    "rn.seed(SEED)\n",
    "\n",
    "# Force TensorFlow to use single thread.\n",
    "# Multiple threads are a potential source of\n",
    "# non-reproducible results.\n",
    "# For further details, see: https://stackoverflow.com/questions/42022950/which-seeds-have-to-be-set-where-to-realize-100-reproducibility-of-training-res\n",
    "\n",
    "session_conf = tf.ConfigProto(intra_op_parallelism_threads=1, inter_op_parallelism_threads=1)\n",
    "\n",
    "from keras import backend as K\n",
    "\n",
    "# The below tf.set_random_seed() will make random number generation\n",
    "# in the TensorFlow backend have a well-defined initial state.\n",
    "# For further details, see: https://www.tensorflow.org/api_docs/python/tf/set_random_seed\n",
    "\n",
    "tf.set_random_seed(SEED)\n",
    "\n",
    "sess = tf.Session(graph=tf.get_default_graph(), config=session_conf)\n",
    "K.set_session(sess)"
   ]
  },
  {
   "cell_type": "code",
   "execution_count": 3,
   "metadata": {},
   "outputs": [
    {
     "name": "stdout",
     "output_type": "stream",
     "text": [
      "keras version: 2.2.4\n",
      "tensorflow version:1.13.1\n"
     ]
    }
   ],
   "source": [
    "from keras import __version__ as keras_version\n",
    "print(\"keras version: {}\".format(keras_version))\n",
    "from tensorflow import __version__ as tf_version\n",
    "print(\"tensorflow version:{}\".format(tf_version ))"
   ]
  },
  {
   "cell_type": "markdown",
   "metadata": {},
   "source": [
    "## Get Data and Generate Dataset"
   ]
  },
  {
   "cell_type": "code",
   "execution_count": 4,
   "metadata": {
    "colab": {
     "base_uri": "https://localhost:8080/",
     "height": 34
    },
    "colab_type": "code",
    "id": "S-_m1d42Z_Ix",
    "outputId": "59301455-6419-453c-e0d5-c08eda2c310a"
   },
   "outputs": [],
   "source": [
    "#!wget https://d17h27t6h515a5.cloudfront.net/topher/2016/December/584f6edd_data/data.zip\n",
    "#!unzip data.zip"
   ]
  },
  {
   "cell_type": "code",
   "execution_count": 5,
   "metadata": {},
   "outputs": [
    {
     "name": "stdout",
     "output_type": "stream",
     "text": [
      "driving_log.csv  IMG\r\n"
     ]
    }
   ],
   "source": [
    "DATASET_PATH=\"/home/milhouse/datasets/steering_angle/data2\"\n",
    "!ls $DATASET_PATH"
   ]
  },
  {
   "cell_type": "code",
   "execution_count": 6,
   "metadata": {
    "colab": {
     "base_uri": "https://localhost:8080/",
     "height": 34
    },
    "colab_type": "code",
    "id": "ApygA6cKetP8",
    "outputId": "7ca7de34-d5fb-4873-990b-f2dcf68e5b39"
   },
   "outputs": [],
   "source": [
    "#import numpy as np\n",
    "import matplotlib.pyplot as plt\n",
    "import matplotlib.image as npimg\n",
    "import os\n",
    "\n",
    "## Keras\n",
    "import keras\n",
    "from keras.models import Sequential\n",
    "from keras.optimizers import Adam\n",
    "from keras.layers import Convolution2D, MaxPooling2D, Dropout, Flatten, Dense\n",
    "\n",
    "import cv2\n",
    "import pandas as pd\n",
    "#import random\n",
    "import ntpath\n",
    "\n",
    "## Sklearn\n",
    "from sklearn.utils import shuffle\n",
    "from sklearn.model_selection import train_test_split"
   ]
  },
  {
   "cell_type": "code",
   "execution_count": 7,
   "metadata": {
    "colab": {
     "base_uri": "https://localhost:8080/",
     "height": 400
    },
    "colab_type": "code",
    "id": "-vW2OAepfCY7",
    "outputId": "a481b688-42e5-46be-f9c4-c7a66af787c7"
   },
   "outputs": [
    {
     "data": {
      "text/html": [
       "<div>\n",
       "<style scoped>\n",
       "    .dataframe tbody tr th:only-of-type {\n",
       "        vertical-align: middle;\n",
       "    }\n",
       "\n",
       "    .dataframe tbody tr th {\n",
       "        vertical-align: top;\n",
       "    }\n",
       "\n",
       "    .dataframe thead th {\n",
       "        text-align: right;\n",
       "    }\n",
       "</style>\n",
       "<table border=\"1\" class=\"dataframe\">\n",
       "  <thead>\n",
       "    <tr style=\"text-align: right;\">\n",
       "      <th></th>\n",
       "      <th>center</th>\n",
       "      <th>left</th>\n",
       "      <th>right</th>\n",
       "      <th>steering</th>\n",
       "      <th>throttle</th>\n",
       "      <th>brake</th>\n",
       "      <th>speed</th>\n",
       "    </tr>\n",
       "  </thead>\n",
       "  <tbody>\n",
       "    <tr>\n",
       "      <th>0</th>\n",
       "      <td>IMG/center_2016_12_01_13_31_13_037.jpg</td>\n",
       "      <td>IMG/left_2016_12_01_13_31_13_037.jpg</td>\n",
       "      <td>IMG/right_2016_12_01_13_31_13_037.jpg</td>\n",
       "      <td>0.0</td>\n",
       "      <td>0.0</td>\n",
       "      <td>0.0</td>\n",
       "      <td>1.438419</td>\n",
       "    </tr>\n",
       "    <tr>\n",
       "      <th>1</th>\n",
       "      <td>IMG/center_2016_12_01_13_31_13_177.jpg</td>\n",
       "      <td>IMG/left_2016_12_01_13_31_13_177.jpg</td>\n",
       "      <td>IMG/right_2016_12_01_13_31_13_177.jpg</td>\n",
       "      <td>0.0</td>\n",
       "      <td>0.0</td>\n",
       "      <td>0.0</td>\n",
       "      <td>1.418236</td>\n",
       "    </tr>\n",
       "    <tr>\n",
       "      <th>2</th>\n",
       "      <td>IMG/center_2016_12_01_13_31_13_279.jpg</td>\n",
       "      <td>IMG/left_2016_12_01_13_31_13_279.jpg</td>\n",
       "      <td>IMG/right_2016_12_01_13_31_13_279.jpg</td>\n",
       "      <td>0.0</td>\n",
       "      <td>0.0</td>\n",
       "      <td>0.0</td>\n",
       "      <td>1.403993</td>\n",
       "    </tr>\n",
       "    <tr>\n",
       "      <th>3</th>\n",
       "      <td>IMG/center_2016_12_01_13_31_13_381.jpg</td>\n",
       "      <td>IMG/left_2016_12_01_13_31_13_381.jpg</td>\n",
       "      <td>IMG/right_2016_12_01_13_31_13_381.jpg</td>\n",
       "      <td>0.0</td>\n",
       "      <td>0.0</td>\n",
       "      <td>0.0</td>\n",
       "      <td>1.389892</td>\n",
       "    </tr>\n",
       "    <tr>\n",
       "      <th>4</th>\n",
       "      <td>IMG/center_2016_12_01_13_31_13_482.jpg</td>\n",
       "      <td>IMG/left_2016_12_01_13_31_13_482.jpg</td>\n",
       "      <td>IMG/right_2016_12_01_13_31_13_482.jpg</td>\n",
       "      <td>0.0</td>\n",
       "      <td>0.0</td>\n",
       "      <td>0.0</td>\n",
       "      <td>1.375934</td>\n",
       "    </tr>\n",
       "  </tbody>\n",
       "</table>\n",
       "</div>"
      ],
      "text/plain": [
       "                                   center  \\\n",
       "0  IMG/center_2016_12_01_13_31_13_037.jpg   \n",
       "1  IMG/center_2016_12_01_13_31_13_177.jpg   \n",
       "2  IMG/center_2016_12_01_13_31_13_279.jpg   \n",
       "3  IMG/center_2016_12_01_13_31_13_381.jpg   \n",
       "4  IMG/center_2016_12_01_13_31_13_482.jpg   \n",
       "\n",
       "                                    left  \\\n",
       "0   IMG/left_2016_12_01_13_31_13_037.jpg   \n",
       "1   IMG/left_2016_12_01_13_31_13_177.jpg   \n",
       "2   IMG/left_2016_12_01_13_31_13_279.jpg   \n",
       "3   IMG/left_2016_12_01_13_31_13_381.jpg   \n",
       "4   IMG/left_2016_12_01_13_31_13_482.jpg   \n",
       "\n",
       "                                    right  steering  throttle  brake     speed  \n",
       "0   IMG/right_2016_12_01_13_31_13_037.jpg  0.0       0.0       0.0    1.438419  \n",
       "1   IMG/right_2016_12_01_13_31_13_177.jpg  0.0       0.0       0.0    1.418236  \n",
       "2   IMG/right_2016_12_01_13_31_13_279.jpg  0.0       0.0       0.0    1.403993  \n",
       "3   IMG/right_2016_12_01_13_31_13_381.jpg  0.0       0.0       0.0    1.389892  \n",
       "4   IMG/right_2016_12_01_13_31_13_482.jpg  0.0       0.0       0.0    1.375934  "
      ]
     },
     "execution_count": 7,
     "metadata": {},
     "output_type": "execute_result"
    }
   ],
   "source": [
    "## Store data\n",
    "#datadir = 'self-driving-car-data-track-1'\n",
    "datadir = DATASET_PATH\n",
    "#columns = ['center', 'left', 'right', 'steering', 'throttle', 'reverse', 'speed']\n",
    "data = pd.read_csv(os.path.join(datadir, 'driving_log.csv'))\n",
    "pd.set_option('display.max_colwidth', -1)\n",
    "data.head()\n"
   ]
  },
  {
   "cell_type": "code",
   "execution_count": 8,
   "metadata": {
    "colab": {
     "base_uri": "https://localhost:8080/",
     "height": 226
    },
    "colab_type": "code",
    "id": "DPesS6YZhmiR",
    "outputId": "0b57fe4a-2f17-4916-adc2-3008cf331dd1"
   },
   "outputs": [
    {
     "name": "stdout",
     "output_type": "stream",
     "text": [
      "(8033, 7)\n"
     ]
    },
    {
     "data": {
      "text/html": [
       "<div>\n",
       "<style scoped>\n",
       "    .dataframe tbody tr th:only-of-type {\n",
       "        vertical-align: middle;\n",
       "    }\n",
       "\n",
       "    .dataframe tbody tr th {\n",
       "        vertical-align: top;\n",
       "    }\n",
       "\n",
       "    .dataframe thead th {\n",
       "        text-align: right;\n",
       "    }\n",
       "</style>\n",
       "<table border=\"1\" class=\"dataframe\">\n",
       "  <thead>\n",
       "    <tr style=\"text-align: right;\">\n",
       "      <th></th>\n",
       "      <th>center</th>\n",
       "      <th>left</th>\n",
       "      <th>right</th>\n",
       "      <th>steering</th>\n",
       "      <th>throttle</th>\n",
       "      <th>brake</th>\n",
       "      <th>speed</th>\n",
       "    </tr>\n",
       "  </thead>\n",
       "  <tbody>\n",
       "    <tr>\n",
       "      <th>0</th>\n",
       "      <td>center_2016_12_01_13_31_13_037.jpg</td>\n",
       "      <td>left_2016_12_01_13_31_13_037.jpg</td>\n",
       "      <td>right_2016_12_01_13_31_13_037.jpg</td>\n",
       "      <td>0.0</td>\n",
       "      <td>0.0</td>\n",
       "      <td>0.0</td>\n",
       "      <td>1.438419</td>\n",
       "    </tr>\n",
       "    <tr>\n",
       "      <th>1</th>\n",
       "      <td>center_2016_12_01_13_31_13_177.jpg</td>\n",
       "      <td>left_2016_12_01_13_31_13_177.jpg</td>\n",
       "      <td>right_2016_12_01_13_31_13_177.jpg</td>\n",
       "      <td>0.0</td>\n",
       "      <td>0.0</td>\n",
       "      <td>0.0</td>\n",
       "      <td>1.418236</td>\n",
       "    </tr>\n",
       "    <tr>\n",
       "      <th>2</th>\n",
       "      <td>center_2016_12_01_13_31_13_279.jpg</td>\n",
       "      <td>left_2016_12_01_13_31_13_279.jpg</td>\n",
       "      <td>right_2016_12_01_13_31_13_279.jpg</td>\n",
       "      <td>0.0</td>\n",
       "      <td>0.0</td>\n",
       "      <td>0.0</td>\n",
       "      <td>1.403993</td>\n",
       "    </tr>\n",
       "    <tr>\n",
       "      <th>3</th>\n",
       "      <td>center_2016_12_01_13_31_13_381.jpg</td>\n",
       "      <td>left_2016_12_01_13_31_13_381.jpg</td>\n",
       "      <td>right_2016_12_01_13_31_13_381.jpg</td>\n",
       "      <td>0.0</td>\n",
       "      <td>0.0</td>\n",
       "      <td>0.0</td>\n",
       "      <td>1.389892</td>\n",
       "    </tr>\n",
       "    <tr>\n",
       "      <th>4</th>\n",
       "      <td>center_2016_12_01_13_31_13_482.jpg</td>\n",
       "      <td>left_2016_12_01_13_31_13_482.jpg</td>\n",
       "      <td>right_2016_12_01_13_31_13_482.jpg</td>\n",
       "      <td>0.0</td>\n",
       "      <td>0.0</td>\n",
       "      <td>0.0</td>\n",
       "      <td>1.375934</td>\n",
       "    </tr>\n",
       "  </tbody>\n",
       "</table>\n",
       "</div>"
      ],
      "text/plain": [
       "                               center                              left  \\\n",
       "0  center_2016_12_01_13_31_13_037.jpg  left_2016_12_01_13_31_13_037.jpg   \n",
       "1  center_2016_12_01_13_31_13_177.jpg  left_2016_12_01_13_31_13_177.jpg   \n",
       "2  center_2016_12_01_13_31_13_279.jpg  left_2016_12_01_13_31_13_279.jpg   \n",
       "3  center_2016_12_01_13_31_13_381.jpg  left_2016_12_01_13_31_13_381.jpg   \n",
       "4  center_2016_12_01_13_31_13_482.jpg  left_2016_12_01_13_31_13_482.jpg   \n",
       "\n",
       "                               right  steering  throttle  brake     speed  \n",
       "0  right_2016_12_01_13_31_13_037.jpg  0.0       0.0       0.0    1.438419  \n",
       "1  right_2016_12_01_13_31_13_177.jpg  0.0       0.0       0.0    1.418236  \n",
       "2  right_2016_12_01_13_31_13_279.jpg  0.0       0.0       0.0    1.403993  \n",
       "3  right_2016_12_01_13_31_13_381.jpg  0.0       0.0       0.0    1.389892  \n",
       "4  right_2016_12_01_13_31_13_482.jpg  0.0       0.0       0.0    1.375934  "
      ]
     },
     "execution_count": 8,
     "metadata": {},
     "output_type": "execute_result"
    }
   ],
   "source": [
    "def path_leaf(path):\n",
    "  \"\"\"Get tail of path\"\"\"\n",
    "  head, tail = ntpath.split(path)\n",
    "  return tail\n",
    "\n",
    "## Remove path of images\n",
    "data['center'] = data['center'].apply(path_leaf)\n",
    "data['left'] = data['left'].apply(path_leaf)\n",
    "data['right'] = data['right'].apply(path_leaf)\n",
    "print(data.shape)\n",
    "data.head()"
   ]
  },
  {
   "cell_type": "code",
   "execution_count": 9,
   "metadata": {
    "colab": {},
    "colab_type": "code",
    "id": "mujQNa09pSdD"
   },
   "outputs": [],
   "source": [
    "def load_img_steering(datadir, df):\n",
    "  \"\"\"Get img and steering data into arrays\"\"\"\n",
    "  image_path = []\n",
    "  steering = []\n",
    "  for i in range(len(data)):\n",
    "    indexed_data = data.iloc[i]\n",
    "    center, left, right = indexed_data[0], indexed_data[1], indexed_data[2]\n",
    "    image_path.append(os.path.join(datadir, center.strip()))\n",
    "    steering.append(float(indexed_data[3]))\n",
    "  image_paths = np.asarray(image_path)\n",
    "  steerings = np.asarray(steering)\n",
    "  return image_paths, steerings\n",
    "\n",
    "image_paths, steerings = load_img_steering(datadir + '/IMG', data)\n",
    "  "
   ]
  },
  {
   "cell_type": "code",
   "execution_count": 10,
   "metadata": {
    "colab": {
     "base_uri": "https://localhost:8080/",
     "height": 333
    },
    "colab_type": "code",
    "id": "3vuJ1oMTvnHE",
    "outputId": "72584d95-ba75-4632-c6a9-35a54071ed58"
   },
   "outputs": [],
   "source": [
    "## Split data into training and validation\n",
    "X_train, X_valid, Y_train, Y_valid = train_test_split(image_paths, steerings, test_size=0.2, random_state=0)\n"
   ]
  },
  {
   "cell_type": "code",
   "execution_count": 11,
   "metadata": {},
   "outputs": [
    {
     "name": "stdout",
     "output_type": "stream",
     "text": [
      "(6426, 160, 320, 3)\n"
     ]
    },
    {
     "data": {
      "image/png": "[encoded data removed]",
      "text/plain": [
       "<Figure size 432x288 with 1 Axes>"
      ]
     },
     "metadata": {
      "needs_background": "light"
     },
     "output_type": "display_data"
    }
   ],
   "source": [
    "X_train = np.array(list(map(lambda x:npimg.imread(x), X_train)))\n",
    "X_valid = np.array(list(map(lambda x:npimg.imread(x), X_valid)))\n",
    "plt.imshow(X_train[rn.randint(0, len(X_train)-1)])\n",
    "plt.axis('off')\n",
    "print(X_train.shape)\n",
    "IMG_SIZE = X_train[0].shape"
   ]
  },
  {
   "cell_type": "markdown",
   "metadata": {},
   "source": [
    "## Nvidia convolutional network. First flavor \n",
    "https://github.com/tylerlum/self_driving_car"
   ]
  },
  {
   "cell_type": "code",
   "execution_count": 12,
   "metadata": {
    "colab": {},
    "colab_type": "code",
    "id": "EMEwn5h50ZxX"
   },
   "outputs": [],
   "source": [
    "def nvidia_model_tylerlum():\n",
    "  model = Sequential()\n",
    "  model.add(Convolution2D(24, (5, 5), strides=(2, 2), input_shape=IMG_SIZE, activation='elu'))\n",
    "  #model.add(Convolution2D(24, 5, 5, subsample=(2, 2), input_shape=(66, 200, 3), activation='elu'))\n",
    "  model.add(Convolution2D(36, (5, 5), strides=(2, 2), activation='elu'))\n",
    "  model.add(Convolution2D(48, (5, 5), strides=(2, 2), activation='elu'))\n",
    "  model.add(Convolution2D(64, (3, 3), activation='elu'))\n",
    "  model.add(Convolution2D(64, (3, 3), activation='elu'))\n",
    "  model.add(Dropout(0.5))\n",
    "  \n",
    "  model.add(Flatten())\n",
    "  \n",
    "  model.add(Dense(100, activation='elu'))\n",
    "  model.add(Dropout(0.5))\n",
    "  \n",
    "  model.add(Dense(50, activation='elu'))\n",
    "  model.add(Dropout(0.5))\n",
    "  \n",
    "  model.add(Dense(10, activation='elu'))\n",
    "  model.add(Dropout(0.5))\n",
    "  \n",
    "  model.add(Dense(1))\n",
    "  \n",
    "  optimizer = Adam(lr=1e-3)\n",
    "  model.compile(loss='mse', optimizer=optimizer)\n",
    "  return model"
   ]
  },
  {
   "cell_type": "code",
   "execution_count": 13,
   "metadata": {
    "colab": {
     "base_uri": "https://localhost:8080/",
     "height": 642
    },
    "colab_type": "code",
    "id": "7lEbwjbA2Tt8",
    "outputId": "d24cc318-a7d8-401d-86b2-35d1a91e940c"
   },
   "outputs": [
    {
     "name": "stdout",
     "output_type": "stream",
     "text": [
      "WARNING:tensorflow:From /home/milhouse/miniconda3/envs/car-behavioral-cloning-keras2/lib/python3.6/site-packages/tensorflow/python/framework/op_def_library.py:263: colocate_with (from tensorflow.python.framework.ops) is deprecated and will be removed in a future version.\n",
      "Instructions for updating:\n",
      "Colocations handled automatically by placer.\n",
      "WARNING:tensorflow:From /home/milhouse/miniconda3/envs/car-behavioral-cloning-keras2/lib/python3.6/site-packages/keras/backend/tensorflow_backend.py:3445: calling dropout (from tensorflow.python.ops.nn_ops) with keep_prob is deprecated and will be removed in a future version.\n",
      "Instructions for updating:\n",
      "Please use `rate` instead of `keep_prob`. Rate should be set to `rate = 1 - keep_prob`.\n",
      "_________________________________________________________________\n",
      "Layer (type)                 Output Shape              Param #   \n",
      "=================================================================\n",
      "conv2d_1 (Conv2D)            (None, 78, 158, 24)       1824      \n",
      "_________________________________________________________________\n",
      "conv2d_2 (Conv2D)            (None, 37, 77, 36)        21636     \n",
      "_________________________________________________________________\n",
      "conv2d_3 (Conv2D)            (None, 17, 37, 48)        43248     \n",
      "_________________________________________________________________\n",
      "conv2d_4 (Conv2D)            (None, 15, 35, 64)        27712     \n",
      "_________________________________________________________________\n",
      "conv2d_5 (Conv2D)            (None, 13, 33, 64)        36928     \n",
      "_________________________________________________________________\n",
      "dropout_1 (Dropout)          (None, 13, 33, 64)        0         \n",
      "_________________________________________________________________\n",
      "flatten_1 (Flatten)          (None, 27456)             0         \n",
      "_________________________________________________________________\n",
      "dense_1 (Dense)              (None, 100)               2745700   \n",
      "_________________________________________________________________\n",
      "dropout_2 (Dropout)          (None, 100)               0         \n",
      "_________________________________________________________________\n",
      "dense_2 (Dense)              (None, 50)                5050      \n",
      "_________________________________________________________________\n",
      "dropout_3 (Dropout)          (None, 50)                0         \n",
      "_________________________________________________________________\n",
      "dense_3 (Dense)              (None, 10)                510       \n",
      "_________________________________________________________________\n",
      "dropout_4 (Dropout)          (None, 10)                0         \n",
      "_________________________________________________________________\n",
      "dense_4 (Dense)              (None, 1)                 11        \n",
      "=================================================================\n",
      "Total params: 2,882,619\n",
      "Trainable params: 2,882,619\n",
      "Non-trainable params: 0\n",
      "_________________________________________________________________\n",
      "None\n"
     ]
    }
   ],
   "source": [
    "model = nvidia_model_tylerlum()\n",
    "print(model.summary())"
   ]
  },
  {
   "cell_type": "code",
   "execution_count": 14,
   "metadata": {
    "colab": {
     "base_uri": "https://localhost:8080/",
     "height": 1148
    },
    "colab_type": "code",
    "id": "tA0727Hn2ldx",
    "outputId": "a9e7758e-e619-49cc-d583-cb3056f9124e"
   },
   "outputs": [
    {
     "name": "stdout",
     "output_type": "stream",
     "text": [
      "WARNING:tensorflow:From /home/milhouse/miniconda3/envs/car-behavioral-cloning-keras2/lib/python3.6/site-packages/tensorflow/python/ops/math_ops.py:3066: to_int32 (from tensorflow.python.ops.math_ops) is deprecated and will be removed in a future version.\n",
      "Instructions for updating:\n",
      "Use tf.cast instead.\n",
      "Train on 6426 samples, validate on 1607 samples\n",
      "Epoch 1/30\n",
      "6426/6426 [==============================] - 148s 23ms/step - loss: 706585.9566 - val_loss: 0.9412\n",
      "Epoch 2/30\n",
      "6426/6426 [==============================] - 157s 24ms/step - loss: 4.4915 - val_loss: 0.9796\n",
      "Epoch 3/30\n",
      "6426/6426 [==============================] - 151s 24ms/step - loss: 4.4390 - val_loss: 1.0208\n",
      "Epoch 4/30\n",
      "6426/6426 [==============================] - 163s 25ms/step - loss: 4.4135 - val_loss: 1.0637\n",
      "Epoch 5/30\n",
      "6426/6426 [==============================] - 161s 25ms/step - loss: 4.0394 - val_loss: 1.1050\n",
      "Epoch 6/30\n",
      "6426/6426 [==============================] - 163s 25ms/step - loss: 4.0444 - val_loss: 1.1467\n",
      "Epoch 7/30\n",
      "6426/6426 [==============================] - 137s 21ms/step - loss: 3.9913 - val_loss: 1.1824\n",
      "Epoch 8/30\n",
      "6426/6426 [==============================] - 170s 26ms/step - loss: 3.9150 - val_loss: 1.2128\n",
      "Epoch 9/30\n",
      "6426/6426 [==============================] - 154s 24ms/step - loss: 4.5652 - val_loss: 1.2387\n",
      "Epoch 10/30\n",
      "6426/6426 [==============================] - 171s 27ms/step - loss: 3.8498 - val_loss: 1.2721\n",
      "Epoch 11/30\n",
      "6426/6426 [==============================] - 147s 23ms/step - loss: 3.7483 - val_loss: 1.2889\n",
      "Epoch 12/30\n",
      "6426/6426 [==============================] - 172s 27ms/step - loss: 3.5987 - val_loss: 1.3073\n",
      "Epoch 13/30\n",
      "6426/6426 [==============================] - 168s 26ms/step - loss: 3.5460 - val_loss: 1.3234\n",
      "Epoch 14/30\n",
      "6426/6426 [==============================] - 171s 27ms/step - loss: 3.4992 - val_loss: 1.3412\n",
      "Epoch 15/30\n",
      "6426/6426 [==============================] - 193s 30ms/step - loss: 3.3201 - val_loss: 1.3485\n",
      "Epoch 16/30\n",
      "6426/6426 [==============================] - 171s 27ms/step - loss: 3.3613 - val_loss: 1.3613\n",
      "Epoch 17/30\n",
      "6426/6426 [==============================] - 161s 25ms/step - loss: 3.3561 - val_loss: 1.3710\n",
      "Epoch 18/30\n",
      "6426/6426 [==============================] - 149s 23ms/step - loss: 3.1723 - val_loss: 1.3889\n",
      "Epoch 19/30\n",
      "6426/6426 [==============================] - 157s 24ms/step - loss: 3.2098 - val_loss: 1.3865\n",
      "Epoch 20/30\n",
      "6426/6426 [==============================] - 143s 22ms/step - loss: 3.0888 - val_loss: 1.3970\n",
      "Epoch 21/30\n",
      "6426/6426 [==============================] - 156s 24ms/step - loss: 3.1616 - val_loss: 1.3945\n",
      "Epoch 22/30\n",
      "6426/6426 [==============================] - 160s 25ms/step - loss: 3.0540 - val_loss: 1.3923\n",
      "Epoch 23/30\n",
      "6426/6426 [==============================] - 199s 31ms/step - loss: 3.1034 - val_loss: 1.3747\n",
      "Epoch 24/30\n",
      "6426/6426 [==============================] - 172s 27ms/step - loss: 3.0695 - val_loss: 1.3745\n",
      "Epoch 25/30\n",
      "6426/6426 [==============================] - 165s 26ms/step - loss: 2.9424 - val_loss: 1.3680\n",
      "Epoch 26/30\n",
      "6426/6426 [==============================] - 164s 25ms/step - loss: 2.8633 - val_loss: 1.3595\n",
      "Epoch 27/30\n",
      "6426/6426 [==============================] - 163s 25ms/step - loss: 2.8493 - val_loss: 1.3542\n",
      "Epoch 28/30\n",
      "6426/6426 [==============================] - 162s 25ms/step - loss: 2.8649 - val_loss: 1.3389\n",
      "Epoch 29/30\n",
      "6426/6426 [==============================] - 173s 27ms/step - loss: 2.8520 - val_loss: 1.3089\n",
      "Epoch 30/30\n",
      "6426/6426 [==============================] - 151s 23ms/step - loss: 2.7537 - val_loss: 1.2834\n"
     ]
    }
   ],
   "source": [
    "np.random.seed(SEED)\n",
    "history = model.fit(X_train, Y_train, epochs=30, validation_data=(X_valid, Y_valid), batch_size=100, verbose=1, shuffle=1)"
   ]
  },
  {
   "cell_type": "code",
   "execution_count": 19,
   "metadata": {},
   "outputs": [
    {
     "data": {
      "text/plain": [
       "Text(0.5, 0, 'Epoch')"
      ]
     },
     "execution_count": 19,
     "metadata": {},
     "output_type": "execute_result"
    },
    {
     "data": {
      "image/png": "[encoded data removed]",
      "text/plain": [
       "<Figure size 432x288 with 1 Axes>"
      ]
     },
     "metadata": {
      "needs_background": "light"
     },
     "output_type": "display_data"
    }
   ],
   "source": [
    "plt.plot(history.history['loss'][1:])\n",
    "plt.plot(history.history['val_loss'][1:])\n",
    "plt.legend(['training', 'validation'])\n",
    "plt.title('Loss')\n",
    "plt.xlabel('Epoch')"
   ]
  },
  {
   "cell_type": "markdown",
   "metadata": {},
   "source": [
    "![Fry](https://www.meme-arsenal.com/memes/9f129bf6e96529d58871b5a4dccfd04a.jpg)"
   ]
  },
  {
   "cell_type": "code",
   "execution_count": 16,
   "metadata": {},
   "outputs": [],
   "source": [
    "PROJECT_PATH=\"/home/milhouse/projects/car-behavioral-cloning/\""
   ]
  },
  {
   "cell_type": "markdown",
   "metadata": {},
   "source": [
    "## Let's try on the simulator"
   ]
  },
  {
   "cell_type": "code",
   "execution_count": 17,
   "metadata": {},
   "outputs": [
    {
     "name": "stdout",
     "output_type": "stream",
     "text": [
      "Found path: /home/milhouse/projects/car-behavioral-cloning//beta_simulator_linux/beta_simulator.x86_64\n",
      "Mono path[0] = '/home/milhouse/projects/car-behavioral-cloning//beta_simulator_linux/beta_simulator_Data/Managed'\n",
      "Mono path[1] = '/home/milhouse/projects/car-behavioral-cloning//beta_simulator_linux/beta_simulator_Data/Mono'\n",
      "Mono config path = '/home/milhouse/projects/car-behavioral-cloning//beta_simulator_linux/beta_simulator_Data/Mono/etc'\n",
      "displaymanager : xrandr version warning. 1.5\n",
      "client has 4 screens\n",
      "displaymanager screen (0)(eDP1): 1366 x 768\n",
      "Using libudev for joystick management\n",
      "\n",
      "\n",
      "Importing game controller configs\n",
      "Using TensorFlow backend.\n",
      "WARNING:tensorflow:From /home/milhouse/miniconda3/envs/car-behavioral-cloning-keras2/lib/python3.6/site-packages/tensorflow/python/framework/op_def_library.py:263: colocate_with (from tensorflow.python.framework.ops) is deprecated and will be removed in a future version.\n",
      "Instructions for updating:\n",
      "Colocations handled automatically by placer.\n",
      "WARNING:tensorflow:From /home/milhouse/miniconda3/envs/car-behavioral-cloning-keras2/lib/python3.6/site-packages/keras/backend/tensorflow_backend.py:3445: calling dropout (from tensorflow.python.ops.nn_ops) with keep_prob is deprecated and will be removed in a future version.\n",
      "Instructions for updating:\n",
      "Please use `rate` instead of `keep_prob`. Rate should be set to `rate = 1 - keep_prob`.\n",
      "2019-05-22 20:49:31.219653: I tensorflow/core/platform/cpu_feature_guard.cc:141] Your CPU supports instructions that this TensorFlow binary was not compiled to use: SSE4.1 SSE4.2 AVX AVX2 FMA\n",
      "2019-05-22 20:49:31.225572: I tensorflow/core/platform/profile_utils/cpu_utils.cc:94] CPU Frequency: 2394390000 Hz\n",
      "2019-05-22 20:49:31.225801: I tensorflow/compiler/xla/service/service.cc:150] XLA service 0x55f087283540 executing computations on platform Host. Devices:\n",
      "2019-05-22 20:49:31.225824: I tensorflow/compiler/xla/service/service.cc:158]   StreamExecutor device (0): <undefined>, <undefined>\n",
      "OMP: Info #212: KMP_AFFINITY: decoding x2APIC ids.\n",
      "OMP: Info #210: KMP_AFFINITY: Affinity capable, using global cpuid leaf 11 info\n",
      "OMP: Info #154: KMP_AFFINITY: Initial OS proc set respected: 0-3\n",
      "OMP: Info #156: KMP_AFFINITY: 4 available OS procs\n",
      "OMP: Info #157: KMP_AFFINITY: Uniform topology\n",
      "OMP: Info #179: KMP_AFFINITY: 1 packages x 2 cores/pkg x 2 threads/core (2 total cores)\n",
      "OMP: Info #214: KMP_AFFINITY: OS proc to physical thread map:\n",
      "OMP: Info #171: KMP_AFFINITY: OS proc 0 maps to package 0 core 0 thread 0 \n",
      "OMP: Info #171: KMP_AFFINITY: OS proc 2 maps to package 0 core 0 thread 1 \n",
      "OMP: Info #171: KMP_AFFINITY: OS proc 1 maps to package 0 core 1 thread 0 \n",
      "OMP: Info #171: KMP_AFFINITY: OS proc 3 maps to package 0 core 1 thread 1 \n",
      "OMP: Info #250: KMP_AFFINITY: pid 13107 tid 13107 thread 0 bound to OS proc set 0\n",
      "2019-05-22 20:49:31.231633: I tensorflow/core/common_runtime/process_util.cc:71] Creating new thread pool with default inter op setting: 2. Tune using inter_op_parallelism_threads for best performance.\n",
      "WARNING:tensorflow:From /home/milhouse/miniconda3/envs/car-behavioral-cloning-keras2/lib/python3.6/site-packages/tensorflow/python/ops/math_ops.py:3066: to_int32 (from tensorflow.python.ops.math_ops) is deprecated and will be removed in a future version.\n",
      "Instructions for updating:\n",
      "Use tf.cast instead.\n",
      "Creating image folder at /home/milhouse/projects/car-behavioral-cloning//models/images_model_meetup\n",
      "RECORDING THIS RUN ...\n",
      "(13107) wsgi starting up on http://0.0.0.0:4567\n",
      "(13107) accepted ('127.0.0.1', 41447)\n",
      "connect  4cff7231e944405497954d8790b8dfb5\n",
      "OMP: Info #250: KMP_AFFINITY: pid 13107 tid 13170 thread 1 bound to OS proc set 1\n",
      "OMP: Info #250: KMP_AFFINITY: pid 13107 tid 13230 thread 2 bound to OS proc set 2\n",
      "OMP: Info #250: KMP_AFFINITY: pid 13107 tid 13231 thread 3 bound to OS proc set 3\n",
      "OMP: Info #250: KMP_AFFINITY: pid 13107 tid 13232 thread 4 bound to OS proc set 0\n",
      "Steering angle: -1.12 and throttle: 0.87\n",
      "Steering angle: -1.12 and throttle: 0.89\n",
      "OMP: Info #250: KMP_AFFINITY: pid 13107 tid 13169 thread 5 bound to OS proc set 1\n",
      "OMP: Info #250: KMP_AFFINITY: pid 13107 tid 13233 thread 6 bound to OS proc set 2\n",
      "Steering angle: -1.12 and throttle: 0.86\n",
      "Steering angle: -1.12 and throttle: 0.94\n",
      "Steering angle: -1.12 and throttle: 0.96\n",
      "OMP: Info #250: KMP_AFFINITY: pid 13107 tid 13235 thread 7 bound to OS proc set 3\n",
      "OMP: Info #250: KMP_AFFINITY: pid 13107 tid 13236 thread 8 bound to OS proc set 0\n",
      "Steering angle: -1.12 and throttle: 0.98\n",
      "Steering angle: -1.12 and throttle: 0.89\n",
      "Steering angle: -1.12 and throttle: 0.90\n",
      "Steering angle: -1.12 and throttle: 0.92\n",
      "Steering angle: -1.12 and throttle: 0.77\n",
      "Steering angle: -1.12 and throttle: 0.79\n",
      "Steering angle: -1.12 and throttle: 0.80\n",
      "Steering angle: -1.12 and throttle: 0.64\n",
      "Steering angle: -1.12 and throttle: 0.65\n",
      "Steering angle: -1.12 and throttle: 0.66\n",
      "Steering angle: -1.12 and throttle: 0.47\n",
      "Steering angle: -1.12 and throttle: 0.48\n",
      "Steering angle: -1.12 and throttle: 0.48\n",
      "Steering angle: -1.12 and throttle: 0.37\n",
      "Steering angle: -1.12 and throttle: 0.37\n",
      "Steering angle: -1.12 and throttle: 0.37\n",
      "Steering angle: -1.12 and throttle: 0.28\n",
      "Steering angle: -1.12 and throttle: 0.28\n",
      "Steering angle: -1.12 and throttle: 0.28\n",
      "Steering angle: -1.12 and throttle: 0.23\n",
      "Steering angle: -1.12 and throttle: 0.22\n",
      "Steering angle: -1.12 and throttle: 0.22\n",
      "Steering angle: -1.12 and throttle: 0.20\n",
      "Steering angle: -1.12 and throttle: 0.19\n",
      "Steering angle: -1.12 and throttle: 0.19\n",
      "Steering angle: -1.12 and throttle: 0.17\n",
      "Steering angle: -1.12 and throttle: 0.16\n",
      "Steering angle: -1.12 and throttle: 0.16\n",
      "Steering angle: -1.12 and throttle: 0.15\n",
      "Steering angle: -1.12 and throttle: 0.14\n",
      "Steering angle: -1.12 and throttle: 0.14\n",
      "Steering angle: -1.12 and throttle: 0.16\n",
      "Steering angle: -1.12 and throttle: 0.16\n",
      "Steering angle: -1.12 and throttle: 0.16\n",
      "Steering angle: -1.12 and throttle: 0.24\n",
      "Steering angle: -1.12 and throttle: 0.24\n",
      "Steering angle: -1.12 and throttle: 0.24\n",
      "Steering angle: -1.12 and throttle: 0.29\n",
      "Steering angle: -1.12 and throttle: 0.29\n",
      "Steering angle: -1.12 and throttle: 0.29\n",
      "Steering angle: -1.12 and throttle: 0.33\n",
      "Steering angle: -1.12 and throttle: 0.33\n",
      "Steering angle: -1.12 and throttle: 0.33\n",
      "Steering angle: -1.12 and throttle: 0.82\n",
      "Steering angle: -1.12 and throttle: 0.83\n",
      "Steering angle: -1.12 and throttle: 0.84\n",
      "Steering angle: -1.12 and throttle: 1.03\n",
      "Steering angle: -1.12 and throttle: 1.04\n",
      "Steering angle: -1.12 and throttle: 1.06\n",
      "Steering angle: -1.12 and throttle: 1.12\n",
      "Steering angle: -1.12 and throttle: 1.13\n",
      "Steering angle: -1.12 and throttle: 1.15\n",
      "Steering angle: -1.12 and throttle: 1.26\n",
      "Steering angle: -1.12 and throttle: 1.28\n",
      "Steering angle: -1.12 and throttle: 1.30\n",
      "Steering angle: -1.12 and throttle: 1.32\n",
      "Steering angle: -1.12 and throttle: 1.34\n",
      "Steering angle: -1.12 and throttle: 1.36\n",
      "Steering angle: -1.12 and throttle: 1.38\n",
      "Steering angle: -1.12 and throttle: 1.40\n",
      "Steering angle: -1.12 and throttle: 1.41\n",
      "Steering angle: -1.12 and throttle: 1.44\n",
      "Steering angle: -1.12 and throttle: 1.45\n",
      "Steering angle: -1.12 and throttle: 1.47\n",
      "Steering angle: -1.12 and throttle: 1.49\n",
      "Steering angle: -1.12 and throttle: 1.51\n",
      "Steering angle: -1.12 and throttle: 1.52\n",
      "Steering angle: -1.12 and throttle: 1.54\n",
      "Steering angle: -1.12 and throttle: 1.56\n",
      "Steering angle: -1.12 and throttle: 1.58\n",
      "Steering angle: -1.12 and throttle: 1.60\n",
      "Steering angle: -1.12 and throttle: 1.62\n",
      "Steering angle: -1.12 and throttle: 1.64\n",
      "Steering angle: -1.12 and throttle: 1.65\n",
      "Steering angle: -1.12 and throttle: 1.67\n",
      "Steering angle: -1.12 and throttle: 1.69\n",
      "Steering angle: -1.12 and throttle: 1.71\n",
      "Steering angle: -1.12 and throttle: 1.72\n",
      "Steering angle: -1.12 and throttle: 1.74\n",
      "Steering angle: -1.12 and throttle: 1.76\n",
      "Steering angle: -1.12 and throttle: 1.78\n",
      "Steering angle: -1.12 and throttle: 1.80\n",
      "Steering angle: -1.12 and throttle: 1.81\n",
      "Steering angle: -1.12 and throttle: 1.83\n",
      "Steering angle: -1.12 and throttle: 1.85\n",
      "Steering angle: -1.12 and throttle: 1.87\n",
      "Steering angle: -1.12 and throttle: 1.89\n",
      "Steering angle: -1.12 and throttle: 1.90\n",
      "Steering angle: -1.12 and throttle: 1.92\n",
      "Steering angle: -1.12 and throttle: 1.94\n",
      "Steering angle: -1.12 and throttle: 1.96\n",
      "Steering angle: -1.12 and throttle: 1.98\n"
     ]
    },
    {
     "name": "stdout",
     "output_type": "stream",
     "text": [
      "Steering angle: -1.12 and throttle: 1.99\n",
      "Steering angle: -1.12 and throttle: 2.01\n",
      "Steering angle: -1.12 and throttle: 2.03\n",
      "Steering angle: -1.12 and throttle: 2.05\n",
      "Steering angle: -1.12 and throttle: 2.07\n",
      "Steering angle: -1.12 and throttle: 2.08\n",
      "Steering angle: -1.12 and throttle: 2.10\n",
      "Steering angle: -1.12 and throttle: 2.12\n",
      "Steering angle: -1.12 and throttle: 2.14\n",
      "Steering angle: -1.12 and throttle: 2.16\n",
      "Steering angle: -1.12 and throttle: 2.17\n",
      "Steering angle: -1.12 and throttle: 2.19\n",
      "Steering angle: -1.12 and throttle: 2.21\n",
      "Steering angle: -1.12 and throttle: 2.23\n",
      "Steering angle: -1.12 and throttle: 2.25\n",
      "Steering angle: -1.12 and throttle: 2.26\n",
      "Steering angle: -1.12 and throttle: 2.28\n",
      "Steering angle: -1.12 and throttle: 2.30\n",
      "Steering angle: -1.12 and throttle: 2.32\n",
      "Steering angle: -1.12 and throttle: 2.34\n",
      "Steering angle: -1.12 and throttle: 2.35\n",
      "Steering angle: -1.12 and throttle: 2.37\n",
      "Steering angle: -1.12 and throttle: 2.39\n",
      "Steering angle: -1.12 and throttle: 2.41\n",
      "Steering angle: -1.12 and throttle: 2.43\n",
      "Steering angle: -1.12 and throttle: 2.44\n",
      "Steering angle: -1.12 and throttle: 2.46\n",
      "Steering angle: -1.12 and throttle: 2.48\n",
      "Steering angle: -1.12 and throttle: 2.50\n",
      "Steering angle: -1.12 and throttle: 2.52\n",
      "Steering angle: -1.12 and throttle: 2.53\n",
      "Steering angle: -1.12 and throttle: 2.55\n",
      "Steering angle: -1.12 and throttle: 2.57\n",
      "Steering angle: -1.12 and throttle: 2.59\n",
      "Steering angle: -1.12 and throttle: 2.61\n",
      "Steering angle: -1.12 and throttle: 2.62\n",
      "Steering angle: -1.12 and throttle: 2.64\n",
      "Steering angle: -1.12 and throttle: 2.66\n",
      "Steering angle: -1.12 and throttle: 2.68\n",
      "Steering angle: -1.12 and throttle: 2.70\n",
      "Steering angle: -1.12 and throttle: 2.71\n",
      "Steering angle: -1.12 and throttle: 2.73\n",
      "Steering angle: -1.12 and throttle: 2.75\n",
      "Steering angle: -1.12 and throttle: 2.77\n",
      "Steering angle: -1.12 and throttle: 2.79\n",
      "Steering angle: -1.12 and throttle: 2.80\n",
      "Steering angle: -1.12 and throttle: 2.82\n",
      "Steering angle: -1.12 and throttle: 2.84\n",
      "Steering angle: -1.12 and throttle: 2.86\n",
      "Steering angle: -1.12 and throttle: 2.88\n",
      "Steering angle: -1.12 and throttle: 2.89\n",
      "Steering angle: -1.12 and throttle: 2.91\n",
      "Steering angle: -1.12 and throttle: 2.93\n",
      "^C\n",
      "127.0.0.1 - - [22/May/2019 20:50:37] \"GET /socket.io/?EIO=4&transport=websocket HTTP/1.1\" 200 0 53.100505\n"
     ]
    }
   ],
   "source": [
    "model.save('{}/models/model_meetup.h5'.format(PROJECT_PATH))\n",
    "!/home/milhouse/miniconda3/envs/car-behavioral-cloning-keras2/bin/python $PROJECT_PATH/drive_original.py $PROJECT_PATH/models/model_meetup.h5 $PROJECT_PATH/models/images_model_meetup & $PROJECT_PATH/beta_simulator_linux/beta_simulator.x86_64 "
   ]
  },
  {
   "cell_type": "code",
   "execution_count": 20,
   "metadata": {},
   "outputs": [],
   "source": [
    "!convert $PROJECT_PATH/models/images_model_meetup/*5.jpg $PROJECT_PATH/models/images_model_tylerlum_zero.gif"
   ]
  },
  {
   "cell_type": "markdown",
   "metadata": {},
   "source": [
    "<img src=\"../models/images_model_tylerlum_zero.gif\" width=\"800\">"
   ]
  },
  {
   "cell_type": "markdown",
   "metadata": {},
   "source": [
    "## So..."
   ]
  },
  {
   "cell_type": "markdown",
   "metadata": {},
   "source": [
    "![Lauda](https://media.giphy.com/media/pZsI3Q15AzN60/giphy.gif \"lauda\")"
   ]
  },
  {
   "cell_type": "code",
   "execution_count": null,
   "metadata": {},
   "outputs": [],
   "source": []
  }
 ],
 "metadata": {
  "accelerator": "GPU",
  "colab": {
   "collapsed_sections": [],
   "name": "Behavioral Cloning with Keras 2.ipynb",
   "provenance": [],
   "version": "0.3.2"
  },
  "kernelspec": {
   "display_name": "car-behavioral-cloning-keras2",
   "language": "python",
   "name": "car-behavioral-cloning-keras2"
  },
  "language_info": {
   "codemirror_mode": {
    "name": "ipython",
    "version": 3
   },
   "file_extension": ".py",
   "mimetype": "text/x-python",
   "name": "python",
   "nbconvert_exporter": "python",
   "pygments_lexer": "ipython3",
   "version": "3.6.8"
  }
 },
 "nbformat": 4,
 "nbformat_minor": 1
}
